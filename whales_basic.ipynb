{
 "cells": [
  {
   "cell_type": "code",
   "execution_count": 46,
   "metadata": {
    "collapsed": false
   },
   "outputs": [
    {
     "name": "stdout",
     "output_type": "stream",
     "text": [
      "A male whale named wailord has been born!\n",
      "A female whale named wailmer has been born!\n"
     ]
    }
   ],
   "source": [
    "class whale:\n",
    "    def __init__(self, name, sex):\n",
    "        \n",
    "        self.name = name\n",
    "        self.sex = sex\n",
    "        if self.sex=='M':\n",
    "            sex=\"male\"\n",
    "        if self.sex=='F':\n",
    "            sex=\"female\"\n",
    "        print 'A {:s}' .format(sex), 'whale named {:s}' .format(name), 'has been born!'\n",
    "            \n",
    "    def eat(self, food):\n",
    "        self.weight += food\n",
    "        return self.weight    # return is optional when there is nothing to return, just as for a function\n",
    "    \n",
    "    def hibernate(self):\n",
    "        self.weight -= self.weight * 0.1\n",
    "        return self.weight\n",
    "        \n",
    "w1 = whale('wailord', 'M')\n",
    "w3 = whale('wailmer', 'F')\n",
    "\n",
    "\n",
    "\n",
    "\n"
   ]
  },
  {
   "cell_type": "code",
   "execution_count": null,
   "metadata": {
    "collapsed": true
   },
   "outputs": [],
   "source": []
  },
  {
   "cell_type": "code",
   "execution_count": 30,
   "metadata": {
    "collapsed": false
   },
   "outputs": [
    {
     "name": "stdout",
     "output_type": "stream",
     "text": [
      "A turtle has been summoned: Squirtle\n",
      "A turtle has been summoned: Wartortle\n",
      "A turtle has been summoned: Blastoise\n",
      "25\n",
      "22.5\n"
     ]
    }
   ],
   "source": [
    "class turtle:\n",
    "    def __init__(self, name, initial_weight):\n",
    "        print 'A turtle has been summoned: {:s}'.format(name)\n",
    "        \n",
    "        self.name = name\n",
    "        self.weight = initial_weight\n",
    "        \n",
    "    def eat(self, food):\n",
    "        self.weight += food\n",
    "        return self.weight    # return is optional when there is nothing to return, just as for a function\n",
    "    \n",
    "    def hibernate(self):\n",
    "        self.weight -= self.weight * 0.1\n",
    "        return self.weight\n",
    "        \n",
    "t1 = turtle('Squirtle', 15)\n",
    "t2 = turtle('Wartortle', 20)\n",
    "t3 = turtle('Blastoise', 40)\n",
    "print t1.eat(10)\n",
    "print t1.hibernate()\n",
    "\n",
    "\n"
   ]
  },
  {
   "cell_type": "code",
   "execution_count": null,
   "metadata": {
    "collapsed": true
   },
   "outputs": [],
   "source": []
  }
 ],
 "metadata": {
  "kernelspec": {
   "display_name": "Python 2",
   "language": "python",
   "name": "python2"
  },
  "language_info": {
   "codemirror_mode": {
    "name": "ipython",
    "version": 2
   },
   "file_extension": ".py",
   "mimetype": "text/x-python",
   "name": "python",
   "nbconvert_exporter": "python",
   "pygments_lexer": "ipython2",
   "version": "2.7.9"
  }
 },
 "nbformat": 4,
 "nbformat_minor": 0
}
