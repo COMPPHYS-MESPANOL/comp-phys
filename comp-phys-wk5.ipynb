{
 "metadata": {
  "name": "",
  "signature": "sha256:d4132aa1271c351e97fd896531fd0f90c36811008cd469cd2af26e5544c63f7a"
 },
 "nbformat": 3,
 "nbformat_minor": 0,
 "worksheets": []
}