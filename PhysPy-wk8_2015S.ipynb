{
 "cells": [
  {
   "cell_type": "markdown",
   "metadata": {},
   "source": [
    "# Topics\n",
    "## 1. Matrix Manipulation in Python\n",
    "## 2. Relaxation Method and the Laplace Equation.\n"
   ]
  },
  {
   "cell_type": "markdown",
   "metadata": {},
   "source": [
    "## 1. Matrix Manipulation in Python"
   ]
  },
  {
   "cell_type": "code",
   "execution_count": 2,
   "metadata": {
    "collapsed": false
   },
   "outputs": [
    {
     "name": "stdout",
     "output_type": "stream",
     "text": [
      "M_sum [[ 11.    2.5   5. ]\n",
      " [  0.   12.    3.3]\n",
      " [  2.   -2.   20. ]]\n",
      "dot_product: 3.0\n"
     ]
    }
   ],
   "source": [
    "'''Important:\n",
    "\n",
    "For most purposes, \n",
    "\n",
    "M = np.matrix([[1., 1.5, 3.],\n",
    "              [-1., 11., -1.],\n",
    "              [0., -1., 10.]])\n",
    "\n",
    "and\n",
    "\n",
    "M = np.array([[1., 1.5, 3.],\n",
    "              [-1., 11., -1.],\n",
    "              [0., -1., 10.]])\n",
    "\n",
    "give you the same thing.  But certain matrix methods don't apply to a numpy array \n",
    "(such as the inverse; note: .I and .getI() both give you the inverse.).\n",
    "\n",
    "For the whole list of methods:\n",
    "\n",
    "http://docs.scipy.org/doc/numpy/reference/generated/numpy.matrix.html\n",
    "\n",
    "or do \n",
    "\n",
    ">>> dir(M)\n",
    "\n",
    "'''\n",
    "\n",
    "import numpy as np\n",
    "M1 = np.matrix([[1., 1.5, 3.],\n",
    "              [-1., 11., -1.],\n",
    "              [0., -1., 10.]])\n",
    "\n",
    "M2 = np.matrix([[10., 1., 2.],\n",
    "              [1., 1., 4.3],\n",
    "              [2., -1., 10.]])\n",
    "\n",
    "a = np.array([1., 2., 3.])\n",
    "b = np.array([1., 1/2., 1/3.])\n",
    "\n",
    "M_sum = M1 + M2\n",
    "print 'M_sum', M_sum\n",
    "\n",
    "# np.dot\n",
    "# for 1D -- dot product\n",
    "dot_product = np.dot(a, b)\n",
    "print 'dot_product:', dot_product\n",
    "\n"
   ]
  },
  {
   "cell_type": "code",
   "execution_count": 3,
   "metadata": {
    "collapsed": false
   },
   "outputs": [
    {
     "name": "stdout",
     "output_type": "stream",
     "text": [
      "['A', 'A1', 'H', 'I', 'T', '__abs__', '__add__', '__and__', '__array__', '__array_finalize__', '__array_interface__', '__array_prepare__', '__array_priority__', '__array_struct__', '__array_wrap__', '__class__', '__contains__', '__copy__', '__deepcopy__', '__delattr__', '__delitem__', '__delslice__', '__dict__', '__div__', '__divmod__', '__doc__', '__eq__', '__float__', '__floordiv__', '__format__', '__ge__', '__getattribute__', '__getitem__', '__getslice__', '__gt__', '__hash__', '__hex__', '__iadd__', '__iand__', '__idiv__', '__ifloordiv__', '__ilshift__', '__imod__', '__imul__', '__index__', '__init__', '__int__', '__invert__', '__ior__', '__ipow__', '__irshift__', '__isub__', '__iter__', '__itruediv__', '__ixor__', '__le__', '__len__', '__long__', '__lshift__', '__lt__', '__mod__', '__module__', '__mul__', '__ne__', '__neg__', '__new__', '__nonzero__', '__oct__', '__or__', '__pos__', '__pow__', '__radd__', '__rand__', '__rdiv__', '__rdivmod__', '__reduce__', '__reduce_ex__', '__repr__', '__rfloordiv__', '__rlshift__', '__rmod__', '__rmul__', '__ror__', '__rpow__', '__rrshift__', '__rshift__', '__rsub__', '__rtruediv__', '__rxor__', '__setattr__', '__setitem__', '__setslice__', '__setstate__', '__sizeof__', '__str__', '__sub__', '__subclasshook__', '__truediv__', '__xor__', '_align', '_collapse', '_getitem', 'all', 'any', 'argmax', 'argmin', 'argpartition', 'argsort', 'astype', 'base', 'byteswap', 'choose', 'clip', 'compress', 'conj', 'conjugate', 'copy', 'ctypes', 'cumprod', 'cumsum', 'data', 'diagonal', 'dot', 'dtype', 'dump', 'dumps', 'fill', 'flags', 'flat', 'flatten', 'getA', 'getA1', 'getH', 'getI', 'getT', 'getfield', 'imag', 'item', 'itemset', 'itemsize', 'max', 'mean', 'min', 'nbytes', 'ndim', 'newbyteorder', 'nonzero', 'partition', 'prod', 'ptp', 'put', 'ravel', 'real', 'repeat', 'reshape', 'resize', 'round', 'searchsorted', 'setfield', 'setflags', 'shape', 'size', 'sort', 'squeeze', 'std', 'strides', 'sum', 'swapaxes', 'take', 'tobytes', 'tofile', 'tolist', 'tostring', 'trace', 'transpose', 'var', 'view']\n"
     ]
    }
   ],
   "source": [
    "# Note: attributes are listed first, before the dunder (special) methods.\n",
    "print dir(M1)"
   ]
  },
  {
   "cell_type": "code",
   "execution_count": 4,
   "metadata": {
    "collapsed": false
   },
   "outputs": [
    {
     "name": "stdout",
     "output_type": "stream",
     "text": [
      "M_multip:\n",
      "[[ 17.5   -0.5   38.45]\n",
      " [ -1.    11.    35.3 ]\n",
      " [ 19.   -11.    95.7 ]]\n",
      "M1_op_a:\n",
      "[[ 13.  18.  28.]]\n",
      "Transposed M1:\n",
      "[[  1.   -1.    0. ]\n",
      " [  1.5  11.   -1. ]\n",
      " [  3.   -1.   10. ]]\n",
      "M1_trace [[ 22.]]\n",
      "M1_inverse:\n",
      "[[ 0.85826772 -0.14173228 -0.27165354]\n",
      " [ 0.07874016  0.07874016 -0.01574803]\n",
      " [ 0.00787402  0.00787402  0.0984252 ]]\n",
      "...to verify (M1*M1_inverse):\n",
      "[[  1.00000000e+00   0.00000000e+00   4.44089210e-16]\n",
      " [  0.00000000e+00   1.00000000e+00   0.00000000e+00]\n",
      " [  0.00000000e+00   0.00000000e+00   1.00000000e+00]]\n"
     ]
    }
   ],
   "source": [
    "# for 2D -- matrix multiplication\n",
    "M_multip = np.dot(M1, M2)\n",
    "print 'M_multip:'\n",
    "print M_multip\n",
    "\n",
    "# another example of matrix multiplication\n",
    "M1_op_a = np.dot(M1, a)\n",
    "print 'M1_op_a:'\n",
    "print M1_op_a\n",
    "\n",
    "# transpose\n",
    "M1_T = M1.T\n",
    "print 'Transposed M1:'\n",
    "print M1_T\n",
    "\n",
    "# trace\n",
    "print 'M1_trace', M1.trace()\n",
    "\n",
    "# inverse\n",
    "print 'M1_inverse:' \n",
    "print M1.I\n",
    "print '...to verify (M1*M1_inverse):'\n",
    "# Note: for most python operations, the numerical error is on the level of 1e-16.\n",
    "print np.dot(M1.I, M1)"
   ]
  },
  {
   "cell_type": "code",
   "execution_count": null,
   "metadata": {
    "collapsed": false
   },
   "outputs": [],
   "source": [
    "# To get the determinant\n",
    "import numpy.linalg as LA\n",
    "import numpy as np\n",
    "M1 = np.matrix([[1., 1.5, 3.],\n",
    "              [-1., 11., -1.],\n",
    "              [0., -1., 10.]])\n",
    "print \"Determinant of M1\", LA.det(M1)"
   ]
  },
  {
   "cell_type": "markdown",
   "metadata": {},
   "source": [
    "## Quick Breakout\n",
    "\n",
    "### Write a function, solve_eqn() that solves the following matrix equations.  You should catch the expected exception of a non-invertible matrix.\n",
    "\n",
    "### Mx = b\n",
    "\n",
    "### A) \n",
    "M1 = np.matrix([[1., 1.5, 3.],[-1., 11., -1.],[0., -1., 10.]]) and b = np.array([1., 1/2., 1/3.])\n",
    "\n",
    "### B) \n",
    "M2 = np.matrix([[1.,0., 0.],[-2., 0., 0.],[4., 6., 1.]]) and c = np.array([1., 2., 3.])\n",
    "\n",
    "### C) \n",
    "M3 = np.matrix([[1., 1.5, 3.],[-1., 11., -1.],[0., -1., 10.]]) and d = np.array([1., 2., 3.])"
   ]
  },
  {
   "cell_type": "code",
   "execution_count": 18,
   "metadata": {
    "collapsed": false
   },
   "outputs": [
    {
     "data": {
      "text/plain": [
       "matrix([[  1.52121587e+16,  -9.60767921e+15,  -2.40191980e+15]])"
      ]
     },
     "execution_count": 18,
     "metadata": {},
     "output_type": "execute_result"
    }
   ],
   "source": [
    "M1 = np.matrix([[1., 1.5, 3.],[-1., 11., -1.],[0., -1., 10.]]) \n",
    "b = np.array([1., 1/2., 1/3.])\n",
    "M2 = np.matrix([[1.,0., 0.],[-2., 0., 0.],[4., 6., 1.]]) \n",
    "c = np.array([1., 2., 3.])\n",
    "M3 = np.matrix([[-3. , -5., 1.], [9. ,14., 1.],  [18., 29., -2.]])\n",
    "d = np.array([3., 2., 1.])\n",
    "def solve_eqn(M,c):\n",
    "    try:\n",
    "        M.I\n",
    "    except:\n",
    "        print \"Matrix not invertible.\"\n",
    "        \n",
    "    \n",
    "    else:\n",
    "        #if LA.det(M)<1e-15:\n",
    "        #    print \"warning matric may be singular\"\n",
    "        return np.dot(M.I, c)\n",
    "\n",
    "solve_eqn(M3,d)"
   ]
  },
  {
   "cell_type": "code",
   "execution_count": 10,
   "metadata": {
    "collapsed": false
   },
   "outputs": [
    {
     "name": "stdout",
     "output_type": "stream",
     "text": [
      "[[ 0.67948718  0.12250712  0.04558405]]\n",
      "Solution: None\n"
     ]
    }
   ],
   "source": [
    "M1 = np.matrix([[1., 1.5, 3.],[-1., 10., -1.],[0., -1., 10.]]) \n",
    "b = np.array([1., 1/2., 1/3.])\n",
    "soln = solve_eqn(M1, b)\n",
    "print 'Solution:', soln"
   ]
  },
  {
   "cell_type": "code",
   "execution_count": null,
   "metadata": {
    "collapsed": false
   },
   "outputs": [],
   "source": [
    "M2 = np.matrix([[1.,0., 0.],[-2., 0., 0.],[4., 6., 1.]]) \n",
    "c = np.array([1., 2., 3.])\n",
    "soln = solve_eqn(M2, c)\n",
    "print 'Solution:', soln"
   ]
  },
  {
   "cell_type": "code",
   "execution_count": null,
   "metadata": {
    "collapsed": false
   },
   "outputs": [],
   "source": [
    "#this is really a non invertible matrix but the accuracy of pyhton is not good enough so it creates a matrix\n",
    "M3 = np.matrix([[-3. , -5., 1.], [9. ,14., 1.],  [18., 29., -2.]])\n",
    "d = np.array([3., 2., 1.])\n",
    "soln = solve_eqn(M3, d)\n",
    "print 'Solution:', soln\n",
    "# print M2.I\n",
    "# print LA.det(M2)"
   ]
  },
  {
   "cell_type": "markdown",
   "metadata": {},
   "source": [
    "## 2. Relaxation Method and the Laplace Equation.\n",
    "\n",
    "\n",
    "### The name, \"Relaxation Method\":\n",
    "\n",
    "### For example, for the diffusion equation, an initial temperature distribution u(x, t) \"relaxes\" to an equilibrium solution as t -> inf.\n",
    "\n",
    "(See Numerical Recipes 3rd. Ed. p. 1059)"
   ]
  },
  {
   "cell_type": "markdown",
   "metadata": {},
   "source": [
    "## Relaxation Methods: The Jacobi Method\n",
    "### Solving a linear set of equations"
   ]
  },
  {
   "cell_type": "code",
   "execution_count": 19,
   "metadata": {
    "collapsed": false
   },
   "outputs": [
    {
     "name": "stdout",
     "output_type": "stream",
     "text": [
      "The diagonal elements:\n",
      "[ 10.  11.  10.   8.]\n",
      "The diagonal matrix:\n",
      "[[ 10.   0.   0.   0.]\n",
      " [  0.  11.   0.   0.]\n",
      " [  0.   0.  10.   0.]\n",
      " [  0.   0.   0.   8.]]\n",
      "The remainder matrix:\n",
      "[[ 0. -1.  2.  0.]\n",
      " [-1.  0. -1.  3.]\n",
      " [ 2. -1.  0. -1.]\n",
      " [ 0.  3. -1.  0.]]\n",
      "System of Linear Equations:\n",
      "10.0*x1 + -1.0*x2 + 2.0*x3 + 0.0*x4=6.0\n",
      "-1.0*x1 + 11.0*x2 + -1.0*x3 + 3.0*x4=25.0\n",
      "2.0*x1 + -1.0*x2 + 10.0*x3 + -1.0*x4=-11.0\n",
      "0.0*x1 + 3.0*x2 + -1.0*x3 + 8.0*x4=15.0\n",
      "\n",
      "\n",
      "\n",
      "Starting Jacobi method iterations...\n",
      "Iteration 0:[ 0.  0.  0.  0.]\n",
      "Iteration 1:[ 0.6         2.27272727 -1.1         1.875     ]\n",
      "Iteration 2:[ 1.04727273  1.71590909 -0.80522727  0.88522727]\n",
      "Iteration 3:[ 0.93263636  2.05330579 -1.04934091  1.13088068]\n",
      "Iteration 4:[ 1.01519876  1.95369576 -0.96810863  0.97384272]\n",
      "Iteration 5:[ 0.9889913   2.01141473 -1.0102859   1.02135051]\n",
      "Iteration 6:[ 1.00319865  1.99224126 -0.99452174  0.99443374]\n",
      "Iteration 7:[ 0.99812847  2.00230688 -1.00197223  1.00359431]\n",
      "Iteration 8:[ 1.00062513  1.9986703  -0.99903558  0.99888839]\n",
      "Iteration 9:[ 0.99967415  2.00044767 -1.00036916  1.00061919]\n",
      "Iteration 10:[ 1.0001186   1.99976795 -0.99982814  0.99978598]\n",
      "Iteration 11:[ 0.99994242  2.00008477 -1.00006833  1.0001085 ]\n",
      "Iteration 12:[ 1.00002214  1.99995896 -0.99996916  0.99995967]\n",
      "Tolerance achieved.  Printing results...\n",
      "\n",
      "\n",
      "\n",
      "Solution: [ 1.00002214  1.99995896 -0.99996916  0.99995967]\n",
      "Estimated Error: [  5.40253742e-05  -2.50155983e-05  -3.94622250e-05  -3.17737171e-05]\n"
     ]
    }
   ],
   "source": [
    "'''\n",
    "\n",
    "The Jacobi Method: The matrix approach.\n",
    "\n",
    "This cell is copied verbatim from last class (wk7-2)\n",
    "\n",
    "'''\n",
    "\n",
    "\n",
    "import numpy as np\n",
    "\n",
    "max_iter = 100\n",
    "\n",
    "# initialize the matrix\n",
    "A = np.array([[10., -1., 2., 0.],\n",
    "              [-1., 11., -1., 3.],\n",
    "              [2., -1., 10., -1.],\n",
    "              [0.0, 3., -1., 8.]])\n",
    "\n",
    "D = np.diag(A)\n",
    "print \"The diagonal elements:\\n\", D\n",
    "print \"The diagonal matrix:\\n\", np.diagflat(D)\n",
    "R = A - np.diagflat(D)\n",
    "print \"The remainder matrix:\\n\", R\n",
    "\n",
    "# initialize the RHS vector\n",
    "b = np.array([6., 25., -11., 15.])\n",
    "\n",
    "\n",
    "# prints the linear system\n",
    "print(\"System of Linear Equations:\")\n",
    "for i in range(A.shape[0]):\n",
    "    row = [\"{}*x{}\".format(A[i, j], j + 1) for j in range(A.shape[1])]\n",
    "    print \" + \".join(row) + \"=\" + str(b[i])\n",
    "print '\\n\\n'\n",
    "\n",
    "# Initial Guess: Usually you would want an \"educated\" guess, \n",
    "# typcially x_guess = D^(-1)b. \n",
    "# But because the method is so robust, it hardly matters...\n",
    "# We will try all 0's and a set of random numbers.\n",
    "x = np.zeros(b.shape)\n",
    "#x = np.random.rand(b.shape[0])\n",
    "# specify tolerance\n",
    "tol = 1e-4\n",
    "\n",
    "counter = 0\n",
    "print 'Starting Jacobi method iterations...'\n",
    "while counter < max_iter:\n",
    "    print \"Iteration {:d}:{}\".format(counter, x)\n",
    "    # Just to create a numpy array that has the same dimension as x.\n",
    "    x_new = np.empty(x.shape)\n",
    "\n",
    "    for i in range(A.shape[0]):\n",
    "        # np.dot computes dot product\n",
    "        \n",
    "        s = np.dot(R[i,], x)\n",
    "        x_new[i] = (b[i] - s) / A[i, i]\n",
    "            \n",
    "    counter += 1      \n",
    "    # Returns True if two arrays are element-wise equal within a tolerance.\n",
    "    if np.allclose(x, x_new, rtol=tol):\n",
    "        print 'Tolerance achieved.  Printing results...'\n",
    "        break      \n",
    "    else:\n",
    "        if counter == max_iter:\n",
    "            raise Exception('max_iter exceeded!')\n",
    "\n",
    "    x = x_new\n",
    "\n",
    "print '\\n\\n'\n",
    "print \"Solution:\", x \n",
    "print \"Estimated Error:\", (np.dot(A, x) - b)/b "
   ]
  },
  {
   "cell_type": "markdown",
   "metadata": {},
   "source": [
    "## Relaxation Methods: The Laplace Equation\n"
   ]
  },
  {
   "cell_type": "markdown",
   "metadata": {},
   "source": [
    "More at http://en.wikipedia.org/wiki/Relaxation_(iterative_method)"
   ]
  },
  {
   "cell_type": "code",
   "execution_count": 20,
   "metadata": {
    "collapsed": false
   },
   "outputs": [
    {
     "name": "stdout",
     "output_type": "stream",
     "text": [
      "[ 0.          0.09999645  0.19999358  0.2999916   0.39999061  0.49999061\n",
      "  0.5999915   0.69999313  0.79999525  0.89999763  1.        ]\n"
     ]
    },
    {
     "data": {
      "image/png": "[encoded data removed]",
      "text/plain": [
       "<matplotlib.figure.Figure at 0x10af27290>"
      ]
     },
     "metadata": {},
     "output_type": "display_data"
    }
   ],
   "source": [
    "%matplotlib inline\n",
    "'''\n",
    "\n",
    "Jacobi Method: the for-loop approach -- 1D example.\n",
    "\n",
    "Note how the initial guess of all zeros over a number of iterations \"relaxes\" to the final solution -- not unlike\n",
    "an initial temperature distribution relaxes to the steady-state distribution (solution).\n",
    "\n",
    "'''\n",
    "\n",
    "\n",
    "\n",
    "import numpy as np\n",
    "import matplotlib.pyplot as plt\n",
    "\n",
    "NX = 11\n",
    "\n",
    "#initialization\n",
    "V = np.zeros(NX)\n",
    "\n",
    "\n",
    "#Boundary Conditions:\n",
    "V[NX-1] = 1.\n",
    "V[0] = 0\n",
    "maxdiff = 1e-6\n",
    "diff = 1\n",
    "x = np.arange(NX)\n",
    "\n",
    "while diff > maxdiff:\n",
    "    diff = 0.         #crucial!!\n",
    "    # start from 1 and end at NX-2: because you don't want to change the BC!!\n",
    "    for i in range(1, NX-1):    \n",
    "        newV = (V[i-1]+V[i+1])/2\n",
    "        prev_diff = abs(newV - V[i])\n",
    "        # to find the maximum difference in each loop (going over all interior points).\n",
    "        V[i] = newV\n",
    "        if diff < prev_diff:    \n",
    "            diff = prev_diff\n",
    "  \n",
    "            \n",
    "print V\n",
    "plt.plot(x, V)\n",
    "plt.show()\n",
    "          "
   ]
  },
  {
   "cell_type": "markdown",
   "metadata": {},
   "source": [
    "## The Physics:\n",
    "### This corresponds to the electric potential of a parallel plate capacitor \n",
    "### (length, width >> thickness)"
   ]
  },
  {
   "cell_type": "markdown",
   "metadata": {},
   "source": [
    "## Breakout Problem:\n",
    "### For a long rectangular tube, the potential on two opposite sides = 1 volt, and the potential on the other two sides = 0.  \n",
    "### Write a program to find V(x, y) in the interior of the tube.   Start with (2x2) interior grid points.\n",
    "### Then plot the result as a surface plot."
   ]
  },
  {
   "cell_type": "markdown",
   "metadata": {},
   "source": [
    "## Connection between the \"2-for-loop\" way and the matrix way -- go to slides."
   ]
  },
  {
   "cell_type": "markdown",
   "metadata": {},
   "source": [
    "## Breakout Problem:\n",
    "\n",
    "### Write a function, jacobi_meth() that takes two positional argument A and b.  It should also take max_iter, tol, and x_guess as keyword argument.  Set the default values as such: max_iter = 100, tol = 1e-6, and the default value of x_guess should be a zero vector.   Finally inside each iteration, no loops allowed.\n",
    "\n",
    "### Apply this function to the Laplace Equation problem.\n",
    "\n",
    "### Using the answer we obtained before (for the system of algebraic equations) as the doctest."
   ]
  },
  {
   "cell_type": "markdown",
   "metadata": {
    "collapsed": false,
    "scrolled": true
   },
   "source": [
    "## Breakout Solution: See jacobi_meth.py"
   ]
  },
  {
   "cell_type": "markdown",
   "metadata": {},
   "source": [
    "## End of week 8-1"
   ]
  }
 ],
 "metadata": {
  "kernelspec": {
   "display_name": "Python 2",
   "language": "python",
   "name": "python2"
  },
  "language_info": {
   "codemirror_mode": {
    "name": "ipython",
    "version": 2
   },
   "file_extension": ".py",
   "mimetype": "text/x-python",
   "name": "python",
   "nbconvert_exporter": "python",
   "pygments_lexer": "ipython2",
   "version": "2.7.9"
  }
 },
 "nbformat": 4,
 "nbformat_minor": 0
}
