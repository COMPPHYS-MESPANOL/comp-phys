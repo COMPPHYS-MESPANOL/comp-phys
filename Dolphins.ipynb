{
 "cells": [
  {
   "cell_type": "code",
   "execution_count": 28,
   "metadata": {
    "collapsed": false
   },
   "outputs": [
    {
     "name": "stdout",
     "output_type": "stream",
     "text": [
      "A female whale named Donny has been born!\n",
      "Donny\n",
      "A male whale named Draco has been born!\n",
      "Draco\n",
      "A female whale named Diana has been born!\n",
      "Diana\n",
      "A male whale named Dolphie has been born!\n",
      "Dolphie\n"
     ]
    }
   ],
   "source": [
    "\n",
    "class Dolphins():\n",
    "    import numpy\n",
    "    import random\n",
    "    #import networkx\n",
    "    def __init__(self, name):\n",
    "        self.name = name\n",
    "        self.sex=random.sample(['male', 'female'], 1)[0]\n",
    "        #self.age = age\n",
    "        print 'A {:s} whale named {:s} has been born!'.format(self.sex, name)\n",
    "    \n",
    "        def age(self):\n",
    "            self.newage = dt.datetime.now() - self.birth\n",
    "            return self.newage\n",
    "    \n",
    "        def procreate(self,sex,age):\n",
    "            if WHALES[0].sex=='male'and WHALES[1].sex=='male':\n",
    "                procreate = False\n",
    "            \n",
    "            \n",
    "            \n",
    "            \n",
    "WHALES = ['Donny', 'Draco', 'Diana', 'Dolphie']\n",
    "Names = []    \n",
    "\n",
    "limit = 0\n",
    "while limit < len(WHALES):\n",
    "    sex = random.sample(['male', 'female'], 1)[0]\n",
    "    Names.append(whale(WHALES[limit], sex))\n",
    "    print WHALES[limit]\n",
    "    limit += 1"
   ]
  },
  {
   "cell_type": "code",
   "execution_count": null,
   "metadata": {
    "collapsed": false
   },
   "outputs": [],
   "source": [
    "'''This class is very similar to the turtle class we did in class. Methods sing and age are \n",
    "the only extra additions.'''\n",
    "#HW04\n",
    "#Matthew Espanol\n",
    "#Partner: Matthew Del Rosario\n",
    "import datetime as dt\n",
    "import random\n",
    "\n",
    "class whale:\n",
    "    def __init__(self, name, sex):\n",
    "        \n",
    "        self.name = name\n",
    "        self.sex = sex\n",
    "        self.birth = dt.datetime.now()\n",
    "\n",
    "        if self.sex == 'M':\n",
    "            sex = \"male\"\n",
    "        elif self.sex == 'F':\n",
    "            sex = \"female\"\n",
    "        print 'A {:s} whale named {:s} has been born!'.format(self.sex, name)\n",
    "        \n",
    "    def age(self):\n",
    "        self.newage = dt.datetime.now() - self.birth\n",
    "        return self.newage\n",
    "\n",
    "    def sing(self):\n",
    "        return 5*'\\a'\n",
    "    def __str__(self):\n",
    "        return 'A whale named {:s} age {:s}'.format(self.name, self.age())\n",
    "    \n",
    "\n",
    "\n",
    "\n",
    "WHALES = ['Wailmer', 'Wailord', '3', '4', '5', '6', '7', '8', '9', '10', '11', '12', '13', '14', '15', '16', '17', '18', '19', '20']    \n",
    "Names = []    \n",
    "\n",
    "limit = 0\n",
    "while limit < len(WHALES):\n",
    "    sex = random.sample(['male', 'female'], 1)[0]\n",
    "    Names.append(whale(WHALES[limit], sex))\n",
    "    print WHALES[limit]\n",
    "    limit += 1"
   ]
  },
  {
   "cell_type": "code",
   "execution_count": null,
   "metadata": {
    "collapsed": false
   },
   "outputs": [],
   "source": [
    "import datetime\n",
    "class whale:\n",
    "    def __init__(self, name, sex):\n",
    "        \n",
    "        self.name = name\n",
    "        self.sex = sex\n",
    "        if self.sex=='M':\n",
    "            sex=\"male\"\n",
    "        if self.sex=='F':\n",
    "            sex=\"female\"\n",
    "        print 'A {:s}' .format(sex), 'whale named {:s}' .format(name), 'has been born!'\n",
    "            \n",
    "    def __call__(self,):\n",
    "        self.weight += food\n",
    "        return self.weight    # return is optional when there is nothing to return, just as for a function\n",
    "    \n",
    "    def hibernate(self):\n",
    "        self.weight -= self.weight * 0.1\n",
    "        return self.weight\n",
    "        \n",
    "import datetime\n",
    "class whale:\n",
    "    def __init__(self, name, sex):\n",
    "        \n",
    "        self.name = name\n",
    "        self.sex = sex\n",
    "        if self.sex=='M':\n",
    "            sex=\"male\"\n",
    "        if self.sex=='F':\n",
    "            sex=\"female\"\n",
    "        print 'A {:s}' .format(sex), 'whale named {:s}' .format(name), 'has been born!'\n",
    "            \n",
    "    def __call__(self,):\n",
    "        self.weight += food\n",
    "        return self.weight    # return is optional when there is nothing to return, just as for a function\n",
    "    \n",
    "    def hibernate(self):\n",
    "        self.weight -= self.weight * 0.1\n",
    "        return self.weight\n",
    "        \n",
    "w1 = whale('wailord', 'M')\n",
    "w2 = whale('wailmer', 'F')\n",
    "\n",
    "\n",
    "print w1.name\n",
    "print w2.name\n"
   ]
  },
  {
   "cell_type": "code",
   "execution_count": null,
   "metadata": {
    "collapsed": true
   },
   "outputs": [],
   "source": []
  }
 ],
 "metadata": {
  "kernelspec": {
   "display_name": "Python 2",
   "language": "python",
   "name": "python2"
  },
  "language_info": {
   "codemirror_mode": {
    "name": "ipython",
    "version": 2
   },
   "file_extension": ".py",
   "mimetype": "text/x-python",
   "name": "python",
   "nbconvert_exporter": "python",
   "pygments_lexer": "ipython2",
   "version": "2.7.9"
  }
 },
 "nbformat": 4,
 "nbformat_minor": 0
}
