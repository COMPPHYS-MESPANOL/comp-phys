{
 "cells": [
  {
   "cell_type": "markdown",
   "metadata": {},
   "source": [
    "# Topics\n",
    "## 1. Class: Assignment vs. Instantiaion\n",
    "\n",
    "## 2. String Methods\n",
    "\n",
    "\n",
    "\n",
    "## 3. HTML and Retrieving Data from the Web\n"
   ]
  },
  {
   "cell_type": "markdown",
   "metadata": {},
   "source": [
    "## If a class f is defined, the difference between \n",
    "\n",
    "## g = f \n",
    "\n",
    "## and \n",
    "\n",
    "## g = f()"
   ]
  },
  {
   "cell_type": "code",
   "execution_count": 1,
   "metadata": {
    "collapsed": false
   },
   "outputs": [
    {
     "data": {
      "text/plain": [
       "27.0"
      ]
     },
     "execution_count": 1,
     "metadata": {},
     "output_type": "execute_result"
    }
   ],
   "source": [
    "class f:  #g=f is just making two classes g=f() instantizes an object\n",
    "    def __init__(self, a = 3.):\n",
    "        self.a = a\n",
    "    def __call__(self, x):\n",
    "        return self.a*x**2\n",
    "fun = f()\n",
    "fun(3)"
   ]
  },
  {
   "cell_type": "code",
   "execution_count": 2,
   "metadata": {
    "collapsed": false
   },
   "outputs": [
    {
     "data": {
      "text/plain": [
       "48.0"
      ]
     },
     "execution_count": 2,
     "metadata": {},
     "output_type": "execute_result"
    }
   ],
   "source": [
    "g = f\n",
    "gun = g()\n",
    "gun(4)"
   ]
  },
  {
   "cell_type": "markdown",
   "metadata": {},
   "source": [
    "## Basic String Methods\n",
    "\n",
    "### See https://docs.python.org/2/library/string.html"
   ]
  },
  {
   "cell_type": "code",
   "execution_count": 3,
   "metadata": {
    "collapsed": false
   },
   "outputs": [
    {
     "name": "stdout",
     "output_type": "stream",
     "text": [
      "T\n",
      "h\n",
      "e\n",
      " \n",
      "W\n",
      "o\n",
      "r\n",
      "l\n",
      "d\n",
      " \n",
      "i\n",
      "s\n",
      " \n",
      "c\n",
      "h\n",
      "a\n",
      "n\n",
      "g\n",
      "e\n",
      "d\n",
      ".\n",
      "\n",
      "\n",
      "Number of elements in words: 22\n"
     ]
    }
   ],
   "source": [
    "# A string a list\n",
    "words = 'The World is changed.\\n'\n",
    "for c in words:\n",
    "    print c\n",
    "    \n",
    "print 'Number of elements in words:', len(words)\n",
    "## But this is often not the most useful way to parse (take apart) a string."
   ]
  },
  {
   "cell_type": "code",
   "execution_count": 6,
   "metadata": {
    "collapsed": false
   },
   "outputs": [
    {
     "name": "stdout",
     "output_type": "stream",
     "text": [
      "['The', 'World', 'is', 'changed.'] <type 'list'>\n"
     ]
    }
   ],
   "source": [
    "# The split() method\n",
    "words = 'The World is changed.\\n'\n",
    "words = words.split()  #the () dictates wher to split\n",
    "print words, type(words)   ## the formatting character \\n has been removed."
   ]
  },
  {
   "cell_type": "markdown",
   "metadata": {},
   "source": [
    "##Other important methods:\n",
    "\n",
    "### str.join():\n",
    "\n",
    "### str.split([delimiter]):  can be used with or without the delimiter specified\n",
    "\n",
    "###str.strip(): with the leading and trailing white space characters removed, including new lines.\n",
    "\n",
    "### str.replace(): \n",
    "\n",
    "\n",
    "### The full list:\n",
    "\n",
    "### https://docs.python.org/2/library/stdtypes.html#string-methods"
   ]
  },
  {
   "cell_type": "code",
   "execution_count": 2,
   "metadata": {
    "collapsed": false
   },
   "outputs": [
    {
     "name": "stdout",
     "output_type": "stream",
     "text": [
      "h-e-l-l-o- -w-o-r-l-d\n"
     ]
    }
   ],
   "source": [
    "str1 = '-'\n",
    "str2 = 'hello world'\n",
    "strg = str1.join(str2)\n",
    "print strg"
   ]
  },
  {
   "cell_type": "code",
   "execution_count": 7,
   "metadata": {
    "collapsed": false
   },
   "outputs": [
    {
     "name": "stdout",
     "output_type": "stream",
     "text": [
      "whelloohellorhellolhellod\n"
     ]
    }
   ],
   "source": [
    "str1 = 'hello'\n",
    "str2 = 'world'\n",
    "strg = str1.join(str2)\n",
    "print strg   # note: it doesn't do what you might think it would do!"
   ]
  },
  {
   "cell_type": "code",
   "execution_count": 8,
   "metadata": {
    "collapsed": false
   },
   "outputs": [
    {
     "name": "stdout",
     "output_type": "stream",
     "text": [
      "s1: ['8,4.4,', '9,', '5.3'] 3\n",
      "8,4.4,\n",
      "9,\n",
      "5.3\n"
     ]
    }
   ],
   "source": [
    "strg = '  8,4.4,      9, 5.3   '\n",
    "# no delimiter specified, split uses the default delimiter: (consecutive) white space(s).\n",
    "s1 = strg.split()  \n",
    "print 's1:', s1, len(s1)\n",
    "for elem in s1:\n",
    "    print elem\n",
    "\n",
    "# Note: 1. All white spaces removed.\n",
    "#       2. First two number not separated because there was no white space between them."
   ]
  },
  {
   "cell_type": "code",
   "execution_count": 9,
   "metadata": {
    "collapsed": false
   },
   "outputs": [
    {
     "data": {
      "text/plain": [
       "'  8,4.4,      9, 5.3   '"
      ]
     },
     "execution_count": 9,
     "metadata": {},
     "output_type": "execute_result"
    }
   ],
   "source": [
    "'''What do you expect?'''\n",
    "strg = '  8,4.4,      9, 5.3   '\n",
    "s1 = ''.join(strg)\n",
    "s1 \n",
    "\n",
    "\n"
   ]
  },
  {
   "cell_type": "code",
   "execution_count": 11,
   "metadata": {
    "collapsed": false
   },
   "outputs": [
    {
     "name": "stdout",
     "output_type": "stream",
     "text": [
      "8,4.4,9,5.3\n",
      "['8', '4.4', '9', '5.3']\n"
     ]
    }
   ],
   "source": [
    "# joins every element (a string of characters) in the list with zero length string, \n",
    "# and makes a new string.\n",
    "\n",
    "s1 = ['8,4.4,', '9,', '5.3']   #turned a list of strings into one long string\n",
    "s2 = ''.join(s1)    \n",
    "print s2\n",
    "# couldn't do this on s1 becaues it's a list of strings.\n",
    "print s2.split(',')  "
   ]
  },
  {
   "cell_type": "code",
   "execution_count": 12,
   "metadata": {
    "collapsed": false
   },
   "outputs": [
    {
     "data": {
      "text/plain": [
       "'8,4.4,9,5.3'"
      ]
     },
     "execution_count": 12,
     "metadata": {},
     "output_type": "execute_result"
    }
   ],
   "source": [
    "#putting two methods together:\n",
    "strg = '  8,4.4,      9, 5.3   '\n",
    "s1 = ''.join(strg.split())  # split() removes white spaces; \n",
    "                            # ''.join() makes a new string that is delimited by ','.\n",
    "s1\n",
    "\n"
   ]
  },
  {
   "cell_type": "code",
   "execution_count": 13,
   "metadata": {
    "collapsed": false
   },
   "outputs": [
    {
     "name": "stdout",
     "output_type": "stream",
     "text": [
      "- 1  = exp(i*PI )\n"
     ]
    }
   ],
   "source": [
    "# method upon method.\n",
    "strg = '  - 1  = exp(i*pi )      \\n'\n",
    "print strg.replace('pi', 'PI').strip()"
   ]
  },
  {
   "cell_type": "markdown",
   "metadata": {},
   "source": [
    "## HTML (from wikipedia):\n",
    "\n",
    "### HyperText Markup Language (HTML) is the main markup language for creating web pages and other information that can be displayed in a web browser.\n",
    "\n",
    "###HTML is written in the form of HTML elements consisting of tags enclosed in angle brackets (like < html >), within the web page content. HTML tags most commonly come in pairs like < h1 > and < /h1 >, although some tags, known as empty elements, are unpaired, for example < img >. The first tag in a pair is the start tag, the second tag is the end tag (they are also called opening tags and closing tags). In between these tags web designers can add text, tags, comments and other types of text-based content."
   ]
  },
  {
   "cell_type": "markdown",
   "metadata": {},
   "source": [
    "## URL: Uniform Resource Locator (or \"web address\")"
   ]
  },
  {
   "cell_type": "raw",
   "metadata": {},
   "source": [
    "Simple Example of html:\n",
    "\n",
    "\n",
    "<!--    Simple Example of html -->\n",
    "\n",
    "<!DOCTYPE html>\n",
    "<html>\n",
    "\n",
    "<body style=\"background-color:yellow;\">\n",
    "<h2 style=\"background-color:red;\">Popular Movies</h2>\n",
    "<!-- The <p> tag defines a paragraph. -->\n",
    "<p style=\"background-color:green;\">April</p>\n",
    "\n",
    "\n",
    "<table border=\"1\">\n",
    "  <tr>                      <!-- tr: table row -->\n",
    "    <th>Weekend</th>        <!-- th: table header -->\n",
    "    <th>Top Box Office</th>\n",
    "  </tr>\n",
    "  <tr>\n",
    "    <td>April 19</td>       <!-- td: table data -->\n",
    "    <td>Oblivion</td>\n",
    "  </tr>\n",
    "</table>\n",
    "\n",
    "<!--<img src=\"oblivion-poster.jpg\" width=\"350\" height=\"500\"></body>-->   \n",
    "<img src=\"http://filmonic.com/wp-content/uploads/2012/12/oblivion-movie-poster.jpg\" width=\"1000\" height=\"1500\">\n",
    "\n",
    "<!--The tag div carves out a section -->\n",
    "<div style=\"color:#0000FF\">\n",
    "<!--<div \"background-color:yellow;\">-->\t\n",
    "  <h3>This is another heading</h3>\n",
    "  <p>This is another paragraph.</p>\n",
    "</div>\n",
    "\n",
    "\n",
    "\n",
    "</body>\n",
    "\n",
    "</html>\n",
    "\n",
    "\n",
    "Instructions:\n",
    "\n",
    "1. Copy/paste and save the code as my.html. \n",
    "\n",
    "2. Open my.html in your browser:\n",
    "\n",
    "> open -a Google\\ Chrome my.html\n",
    "\n"
   ]
  },
  {
   "cell_type": "markdown",
   "metadata": {},
   "source": [
    "## Creating a temporary directory\n",
    "### At the terminal:\n",
    "\n",
    "\\> mkdir tmp"
   ]
  },
  {
   "cell_type": "code",
   "execution_count": 16,
   "metadata": {
    "collapsed": false
   },
   "outputs": [
    {
     "data": {
      "text/plain": [
       "True"
      ]
     },
     "execution_count": 16,
     "metadata": {},
     "output_type": "execute_result"
    }
   ],
   "source": [
    "'''Another way to creast a webpage'''\n",
    "\n",
    "html_data = \"\"\"<!DOCTYPE html>\n",
    "<html>\n",
    "\n",
    "<body style=\"background-color:yellow;\">\n",
    "<h2 style=\"background-color:red;\">Popular Movies</h2>\n",
    "<p style=\"background-color:green;\">April</p>\n",
    "\n",
    "\n",
    "<table border=\"1\">\n",
    "  <tr>                      <!-- tr: table row -->\n",
    "    <th>Weekend</th>\n",
    "    <th>Top Box Office</th>\n",
    "  </tr>\n",
    "  <tr>\n",
    "    <td>April 19</td>       <!-- td: table data -->\n",
    "    <td>Oblivion</td>\n",
    "  </tr>\n",
    "</table>\n",
    "\n",
    "<!--<img src=\"oblivion-poster.jpg\" width=\"350\" height=\"500\"></body>-->   \n",
    "<img src=\"http://filmonic.com/wp-content/uploads/2012/12/oblivion-movie-poster.jpg\" width=\"350\" height=\"500\">\n",
    "\n",
    "<!--The tag div carves out a section -->\n",
    "<div style=\"color:#0000FF\">\n",
    "<!--<div \"background-color:yellow;\">-->\t\n",
    "  <h3>This is another heading</h3>\n",
    "  <p>This is another paragraph.</p>\n",
    "</div>\n",
    "\n",
    "\n",
    "\n",
    "</body>\n",
    "\n",
    "</html>\"\"\"\n",
    "\n",
    "import webbrowser    # a new module.\n",
    "dir_path = \"/Users/labuser/comp-phys/\"\n",
    "filenm = dir_path + \"tmp/tmp2.html\"                \n",
    "with open(filenm,\"w\") as f:\n",
    "    f.write(html_data)                      \n",
    "\n",
    "# file:/// analogous to http://\n",
    "webbrowser.open(\"file:///\" + filenm)     \n"
   ]
  },
  {
   "cell_type": "markdown",
   "metadata": {},
   "source": [
    "## Breakout Problem:\n",
    "\n",
    "### Top box office movie for the weekend of April 12, 2013, was \"42.\"  Extend the table and include a poster for 42.  Save the new file as tmp2.html."
   ]
  },
  {
   "cell_type": "markdown",
   "metadata": {},
   "source": [
    "## Two ways of accessing information on a webpage:\n",
    "\n",
    "### 1. Save the content in a html file (on your local hard drive), and open it later.\n",
    "### 2. Create a file object in your Python program and store the content there  (it will disappear as soon as python quits)."
   ]
  },
  {
   "cell_type": "code",
   "execution_count": 23,
   "metadata": {
    "collapsed": false
   },
   "outputs": [
    {
     "data": {
      "text/plain": [
       "True"
      ]
     },
     "execution_count": 23,
     "metadata": {},
     "output_type": "execute_result"
    }
   ],
   "source": [
    "html_data = \"\"\"<!DOCTYPE html>\n",
    "<html>\n",
    "\n",
    "<body style=\"background-color:yellow;\">\n",
    "<h2 style=\"background-color:red;\">Popular Movies</h2>\n",
    "<p style=\"background-color:green;\">April</p>\n",
    "\n",
    "\n",
    "<table border=\"1\">\n",
    "  <tr>                      <!-- tr: table row -->\n",
    "    <th>Weekend</th>\n",
    "    <th>Top Box Office</th>\n",
    "  </tr>\n",
    "  <tr>\n",
    "    <td>April 12</td>       <!-- td: table data -->\n",
    "    <td>42</td>\n",
    "    <td>April 19</td>       <!-- td: table data -->\n",
    "    <td>Oblivion</td>\n",
    "  </tr>\n",
    "</table>\n",
    "\n",
    "\n",
    "<!--<img src=\"oblivion-poster.jpg\" width=\"350\" height=\"500\"></body>-->   \n",
    "<img src=\"http://filmonic.com/wp-content/uploads/2012/12/oblivion-movie-poster.jpg\" width=\"350\" height=\"500\">\n",
    "\n",
    "<!--<img src=\"oblivion-poster.jpg\" width=\"350\" height=\"500\"></body>-->   \n",
    "<img src=\"data:image/jpeg;base64,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\" width=\"500\" height=\"500\">\n",
    "\n",
    "<!--The tag div carves out a section -->\n",
    "<div style=\"color:#0000FF\">\n",
    "<!--<div \"background-color:yellow;\">-->\t\n",
    "  <h3>This is another heading</h3>\n",
    "  <p>This is another paragraph.</p>\n",
    "</div>\n",
    "\n",
    "\n",
    "\n",
    "</body>\n",
    "\n",
    "</html>\"\"\"\n",
    "\n",
    "import webbrowser    # a new module.\n",
    "dir_path = \"/Users/labuser/comp-phys/\"\n",
    "filenm = dir_path + \"tmp/tmp2.html\"                \n",
    "with open(filenm,\"w\") as f:\n",
    "    f.write(html_data)                      \n",
    "\n",
    "# file:/// analogous to http://\n",
    "webbrowser.open(\"file:///\" + filenm)   "
   ]
  },
  {
   "cell_type": "code",
   "execution_count": 28,
   "metadata": {
    "collapsed": false
   },
   "outputs": [
    {
     "data": {
      "text/plain": [
       "True"
      ]
     },
     "execution_count": 28,
     "metadata": {},
     "output_type": "execute_result"
    }
   ],
   "source": [
    "# Method 1\n",
    "import webbrowser   \n",
    "import urllib\n",
    "url = 'http://weather.yahoo.com/united-states/california/san-francisco-2487956/'\n",
    "dir_path = \"/Users/labuser/comp-phys/\"\n",
    "filenm = dir_path + 'tmp/sf_weather.html'                \n",
    "\n",
    "urllib.urlretrieve(url, filename = filenm)\n",
    "# can now open sf_weather.html \n",
    "# -- and you can actually edit it if you want to change its appearance.\n",
    "\n",
    "# And if you want to see it:\n",
    "webbrowser.open(\"file:///\" + filenm)\n",
    "\n"
   ]
  },
  {
   "cell_type": "code",
   "execution_count": 19,
   "metadata": {
    "collapsed": false
   },
   "outputs": [
    {
     "name": "stdout",
     "output_type": "stream",
     "text": [
      "<type 'list'> 928 \n",
      "\n",
      "\n",
      "\n",
      "['<!DOCTYPE html>\\n', '<html id=\"Stencil\" lang=\"en-US\" xmlns:og=\"http://ogp.me/ns#\" xmlns:fb=\"http://www.facebook.com/2008/fbml\" class=\"H-100\">\\n', '    <head>\\n', '        <script>var t_headstart=new Date().getTime();</script>\\n', '        <meta http-equiv=\"content-type\" content=\"text/html; charset=UTF-8\"/>\\n', '\\t<title>San Francisco Weather Forecasts | Maps | News - Yahoo! Weather</title>\\n', '\\t<meta http-equiv=\"x-dns-prefetch-control\" content=\"on\"><link rel=\"dns-prefetch\" href=\"https://s.yimg.com\"><link rel=\"dns-prefetch\" href=\"//y3.analytics.yahoo.com\"><link rel=\"dns-prefetch\" href=\"//geo.query.yahoo.com\"><link rel=\"dns-prefetch\" href=\"//geo.yahoo.com\"><link rel=\"dns-prefetch\" href=\"//csc.beap.bc.yahoo.com\"><link rel=\"dns-prefetch\" href=\"//b.scorecardresearch.com\">\\n', '\\t<!--[if !IE]><!--><link rel=\"icon\" sizes=\"any\" mask href=\"https://s.yimg.com/os/mit/media/p/common/images/favicon_new-7483e38.svg\"><meta name=\"theme-color\" content=\"#400090\"><!--<![endif]--><!--[if !IE]><!--><link rel=\"alternate icon\" type=\"image/x-icon\" href=\"/favicon.ico\"/><!--<![endif]-->\\n', '\\t<meta name=\"description\" lang=\"en-US\" content=\"Home\"/>\\n', '\\t<link rel=\"canonical\" href=\"https://weather.yahoo.com/united-states/california/san-francisco-2487956/\"/>\\n']\n"
     ]
    }
   ],
   "source": [
    "###Method 2  text file not actually created on your hard drive\n",
    "import urllib\n",
    "url = 'http://weather.yahoo.com/united-states/california/san-francisco-2487956/'\n",
    "infile = urllib.urlopen(url)      \n",
    "#print 'type of infile:', type(infile)  # here you have created a file like object.\n",
    "                                        # but it only exists only as long as the current python session;\n",
    "\n",
    "# the object infile is of type file and so has the method .readlines()                                    \n",
    "lines = infile.readlines()   \n",
    "infile.close()\n",
    "print type(lines), len(lines), '\\n\\n\\n'\n",
    "print lines[:10]\n",
    "# if you want to see every line\n",
    "# for line in lines:\n",
    "#     print line"
   ]
  },
  {
   "cell_type": "code",
   "execution_count": 33,
   "metadata": {
    "collapsed": false
   },
   "outputs": [
    {
     "name": "stdout",
     "output_type": "stream",
     "text": [
      "ation</div>\n",
      "            <div class=\"set loc-pick\"></span>Current Location</div>\n",
      "            <div class=\"detecting w-spinner\"></span>Detecting your current location</div>\n",
      "            <div class=\"is-declared loc-pick\"></span>Is this your current location?<a href=\"javascript:void(0)\" data-ylk=\"t1:a3;t2:loc-vrfy;t3:declare;sec:loc-vrfy;slk:yes;elm:itm;elmt:save;itc:1;\" class=\"yes\">Yes</a><span class=\"pipe\">|</span><a href=\"javascript:void(0)\" data-ylk=\"t1:a3;t2:loc-vrfy;t3:declare;sec:loc-vrfy;slk:no;elm:itm;elmt:declare;itc:1;\" class=\"no\">No</a></div>\n",
      "        </span>\n",
      "\n",
      "    </div>\n",
      "    <div class=\"region\">CA, United States</div>\n",
      "</div>\n",
      "\n",
      "\n",
      "<div id=\"lead-bd\" class=\"bd\">\n",
      "    <div class=\"cond wc-partly-cloudy-d wc-icon-32\">Partly Cloudy</div>\n",
      "    <div class=\"temp\">\n",
      "        <span class=\"f\"><span class=\"num\">73</span><span class=\"deg\">&deg;</span></span>\n",
      "        <span class=\"c\"><span class=\"num\">23</span><span class=\"deg\">&deg;</span></span>\n",
      "        <span class=\"hi-lo\">\n",
      "            <span class=\"hi f w-up-arrow\">73&deg;</span>\n",
      "            <span class=\"hi c w-up-arrow\">23&deg;</span>\n",
      "            <span class=\"lo f w-down-arrow\">55&deg;</span>\n",
      "            <span class=\"lo c w-down-arrow\">13&deg;</span>\n",
      "        </span>\n",
      "        <span class=\"unit\">\n",
      "            <span class=\"f\">F</span>\n",
      "            <span class=\"c\">C</span>\n",
      "        </span>\n",
      "    </div>\n",
      "    <div class=\"attribution-parent\">\n",
      "        <div class=\"provider\">Data from <a href=\"http://weather.com/?par=yahoo\" target=\"_blank\" data-ylk=\"t1:a3;t2:ld-s;t3:ft;sec:ld-s;elm:itm;elmt:ptnr;itc:0;\"><img src=\"https://s1.yimg.com/os/mit/media/m/base/images/transparent-649ba6f.png\" style=\"background-image:url('https://s.yimg.com/qq/a/weather.com/wcl1.gif');\" width=\"32\" height=\"32\" alt=\"The Weather Channel\" title=\"\" class=\"lzbg\"></a></div>\n",
      "        <div class=\"credit\"></div>\n",
      "    </div>\n",
      "</div>\n",
      "<div id=\"yog-bg\" class=\"yog-bg no-transition\"><img src=\"https://s.yimg.com/os/mit/media/m/weather/images/fallbacks/lead/cloudy_d-e618500.jpg\" class=\"default c\n"
     ]
    },
    {
     "data": {
      "text/plain": [
       "True"
      ]
     },
     "execution_count": 33,
     "metadata": {},
     "output_type": "execute_result"
    }
   ],
   "source": [
    "# still method 2, but with a new module: urllib2\n",
    "import urllib2 \n",
    "import re\n",
    "url = 'http://weather.yahoo.com/united-states/california/san-francisco-2487956/'\n",
    "infile = urllib2.urlopen(url) \n",
    "weather_html_text = infile.read()   #here I used .read() so there you can see it with webbrowser.open() below.\n",
    "infile.close() \n",
    "print weather_html_text[45000:47000]   #[45000:47000] -- the characters between\n",
    "                                         # the 45000th and 46999th.\n",
    "\n",
    "dir_path = \"/Users/labuser/comp-phys/\"\n",
    "filenm = dir_path + 'tmp/tmp3.html'                \n",
    "\n",
    "# it is true that I haven't closed this file.  Horrors! \n",
    "# it's for the expediency of one-liners.\n",
    "open(filenm,\"w\").write(weather_html_text)  \n",
    "\n",
    "# if one wants to open the file in a browser\n",
    "webbrowser.open(\"file:///\" + filenm)\n",
    "\n",
    "\n"
   ]
  },
  {
   "cell_type": "markdown",
   "metadata": {},
   "source": [
    "## Breakout Excercise:\n",
    "\n",
    "### Extract the high and temperatures from weather_html_text in Fahrenheit (say they are 65 an 54), and print out a statement like this: \n",
    "\n",
    "High and low temperatures are 65 and 54."
   ]
  },
  {
   "cell_type": "code",
   "execution_count": 59,
   "metadata": {
    "collapsed": false
   },
   "outputs": [
    {
     "name": "stdout",
     "output_type": "stream",
     "text": [
      "73\n"
     ]
    }
   ],
   "source": [
    "import re\n",
    "\n",
    "m=re.search(\".* f[^0-9]*([0-9][0-9]*)\", weather_html_text[45000:47000])\n",
    "print m.group(1)\n",
    "\n",
    "\n",
    "w=re.search(\".* f[^0-9]*([0-9][0-9]*)\", weather_html_text[45000:47000])\n",
    "print w.group(1)\n"
   ]
  },
  {
   "cell_type": "code",
   "execution_count": null,
   "metadata": {
    "collapsed": true
   },
   "outputs": [],
   "source": [
    "import re \n",
    "m=re.findall(\"span class.* f.*[0-9][0-9]*\", weather_html_text)"
   ]
  },
  {
   "cell_type": "markdown",
   "metadata": {},
   "source": [
    "## End of wk 7-1"
   ]
  }
 ],
 "metadata": {
  "kernelspec": {
   "display_name": "Python 2",
   "language": "python",
   "name": "python2"
  },
  "language_info": {
   "codemirror_mode": {
    "name": "ipython",
    "version": 2
   },
   "file_extension": ".py",
   "mimetype": "text/x-python",
   "name": "python",
   "nbconvert_exporter": "python",
   "pygments_lexer": "ipython2",
   "version": "2.7.9"
  }
 },
 "nbformat": 4,
 "nbformat_minor": 0
}
