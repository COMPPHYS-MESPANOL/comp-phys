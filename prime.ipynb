{
 "cells": [
  {
   "cell_type": "code",
   "execution_count": 17,
   "metadata": {
    "collapsed": false
   },
   "outputs": [
    {
     "name": "stdout",
     "output_type": "stream",
     "text": [
      "[1,\n",
      " 3,\n",
      " 11,\n",
      " 13,\n",
      " 17,\n",
      " 19,\n",
      " 23,\n",
      " 29,\n",
      " 31,\n",
      " 37,\n",
      " 41,\n",
      " 43,\n",
      " 47,\n",
      " 53,\n",
      " 59,\n",
      " 61,\n",
      " 67,\n",
      " 71,\n",
      " 73,\n",
      " 79,\n",
      " 83,\n",
      " 89,\n",
      " 97]\n"
     ]
    }
   ],
   "source": [
    "#HW03\n",
    "#Matthew Espanol\n",
    "#Partner: Matthew Del Rosario\n",
    "import numpy as np\n",
    "from pprint import pprint\n",
    "def func(a,b):\n",
    "    odd=[]\n",
    "    guess=[]\n",
    "    variable= 1\n",
    "    prime=np.arange(a,b)   #similar to np.arange(a,b,b-(a-1)\n",
    "    for n in prime:\n",
    "        if n % 2 ==1:\n",
    "            odd.append(n)\n",
    "    for x in odd:\n",
    "        if x == 3:\n",
    "            guess.append(x)\n",
    "        elif x % 3 !=0 and x%7 !=0 and x%5 != 0:\n",
    "            guess.append(x)\n",
    "                \n",
    "    pprint(guess)\n",
    "    \n",
    "\n",
    "func(1,100)"
   ]
  },
  {
   "cell_type": "code",
   "execution_count": null,
   "metadata": {
    "collapsed": true
   },
   "outputs": [],
   "source": []
  }
 ],
 "metadata": {
  "kernelspec": {
   "display_name": "Python 2",
   "language": "python",
   "name": "python2"
  },
  "language_info": {
   "codemirror_mode": {
    "name": "ipython",
    "version": 2
   },
   "file_extension": ".py",
   "mimetype": "text/x-python",
   "name": "python",
   "nbconvert_exporter": "python",
   "pygments_lexer": "ipython2",
   "version": "2.7.9"
  }
 },
 "nbformat": 4,
 "nbformat_minor": 0
}
