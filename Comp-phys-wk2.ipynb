{
 "metadata": {
  "name": "",
  "signature": "sha256:9a23f2d9332b5cd7c25fe14d9de40a786d55e8269c62154c51663b45627616fe"
 },
 "nbformat": 3,
 "nbformat_minor": 0,
 "worksheets": [
  {
   "cells": [
    {
     "cell_type": "code",
     "collapsed": false,
     "input": [
      "from math import pi \n",
      "s=0\n",
      "max=1000\n",
      "\n",
      "for i in range(max):\n",
      "    s += 1./(i+1)**2\n",
      "    \n",
      "print 'With the for loop, the sum is' , s    \n",
      "\n",
      "i=1\n",
      "s=0\n",
      "\n",
      "while i<= max:\n",
      "    s += 1./i**2\n",
      "    i=i+1\n",
      "    \n",
      "print 'With the while loop, the sum is' , s    "
     ],
     "language": "python",
     "metadata": {},
     "outputs": [
      {
       "output_type": "stream",
       "stream": "stdout",
       "text": [
        "With the for loop, the sum is 1.64393456668\n",
        "With the while loop, the sum is 1.64393456668\n"
       ]
      }
     ],
     "prompt_number": 3
    },
    {
     "cell_type": "code",
     "collapsed": false,
     "input": [
      "a= 'hello'\n",
      "space = ' '\n",
      "b= 'world'\n",
      "print a + space + b"
     ],
     "language": "python",
     "metadata": {},
     "outputs": [
      {
       "output_type": "stream",
       "stream": "stdout",
       "text": [
        "hello world\n"
       ]
      }
     ],
     "prompt_number": 4
    },
    {
     "cell_type": "code",
     "collapsed": false,
     "input": [
      "b= bool(1)\n",
      "print b\n",
      "b= bool(20)\n",
      "print b\n",
      "b= bool(-3)\n",
      "print b\n",
      "b= bool(0)\n",
      "print b\n",
      "b= bool(0.)\n",
      "print b\n",
      "b= bool(2.5)\n",
      "print b"
     ],
     "language": "python",
     "metadata": {},
     "outputs": [
      {
       "output_type": "stream",
       "stream": "stdout",
       "text": [
        "True\n",
        "True\n",
        "True\n",
        "False\n",
        "False\n",
        "True\n"
       ]
      }
     ],
     "prompt_number": 5
    },
    {
     "cell_type": "code",
     "collapsed": false,
     "input": [
      "Cdegrees = [-20, -15, -5, 5, 10, 15, 20]\n",
      "for C in Cdegrees:\n",
      "    print C in Cdegrees\n",
      "    F = (9.0/5)*C + 32.\n",
      "    print '%5d %5.1f' % (C,F)"
     ],
     "language": "python",
     "metadata": {},
     "outputs": [
      {
       "output_type": "stream",
       "stream": "stdout",
       "text": [
        "True\n",
        "  -20  -4.0\n",
        "True\n",
        "  -15   5.0\n",
        "True\n",
        "   -5  23.0\n",
        "True\n",
        "    5  41.0\n",
        "True\n",
        "   10  50.0\n",
        "True\n",
        "   15  59.0\n",
        "True\n",
        "   20  68.0\n"
       ]
      }
     ],
     "prompt_number": 6
    },
    {
     "cell_type": "code",
     "collapsed": false,
     "input": [
      "Cdegrees = [-20, -15, -5, 5, 10, 15, 20]\n",
      "x=0\n",
      "while x < len(Cdegrees):\n",
      "    print C in Cdegrees\n",
      "    F = (9.0/5)*Cdegrees[x] + 32.\n",
      "    print '%5d %5.1f' % (Cdegrees[x],F)\n",
      "    x +=1"
     ],
     "language": "python",
     "metadata": {},
     "outputs": [
      {
       "output_type": "stream",
       "stream": "stdout",
       "text": [
        "True\n",
        "  -20  -4.0\n",
        "True\n",
        "  -15   5.0\n",
        "True\n",
        "   -5  23.0\n",
        "True\n",
        "    5  41.0\n",
        "True\n",
        "   10  50.0\n",
        "True\n",
        "   15  59.0\n",
        "True\n",
        "   20  68.0\n"
       ]
      }
     ],
     "prompt_number": 9
    },
    {
     "cell_type": "code",
     "collapsed": false,
     "input": [
      "a= [1, 2, 3, 4, 5]\n",
      "r= a[:]\n",
      "s=a\n",
      "print 'r == a:' , r==a\n",
      "print 'r is a:' , r is a\n",
      "print 's == a:' , s==a\n",
      "print 's is a;' , s is a"
     ],
     "language": "python",
     "metadata": {},
     "outputs": [
      {
       "output_type": "stream",
       "stream": "stdout",
       "text": [
        "r == a: True\n",
        "r is a: False\n",
        "s == a: True\n",
        "s is a; True\n"
       ]
      }
     ],
     "prompt_number": 14
    },
    {
     "cell_type": "code",
     "collapsed": false,
     "input": [
      "import copy\n",
      "c=copy.copy(a)\n",
      "print 'c == a:' , c==a\n",
      "print 'c is a:' , c is a"
     ],
     "language": "python",
     "metadata": {},
     "outputs": [
      {
       "output_type": "stream",
       "stream": "stdout",
       "text": [
        "c == a: True\n",
        "c is a: False\n"
       ]
      }
     ],
     "prompt_number": 16
    },
    {
     "cell_type": "code",
     "collapsed": false,
     "input": [
      "a.append(1.4e5)\n",
      "print 'a:', a\n",
      "print 'r:' , r\n",
      "print 's:' , s\n",
      "print 'c:' , c"
     ],
     "language": "python",
     "metadata": {},
     "outputs": [
      {
       "output_type": "stream",
       "stream": "stdout",
       "text": [
        "a: [1, 2, 3, 4, 5, 140000.0, 140000.0]\n",
        "r: [1, 2, 3, 4, 5]\n",
        "s: [1, 2, 3, 4, 5, 140000.0, 140000.0]\n",
        "c: [1, 2, 3, 4, 5, 140000.0]\n"
       ]
      }
     ],
     "prompt_number": 17
    },
    {
     "cell_type": "code",
     "collapsed": false,
     "input": [
      "Cdegrees = [-20, -15, -5, 5, 10, 15, 20]\n",
      "for i, c in enumerate(Cdegrees):\n",
      "    Cdegrees[i] = c+2*i\n",
      "    print i, Cdegrees[i]\n",
      "    \n"
     ],
     "language": "python",
     "metadata": {},
     "outputs": [
      {
       "output_type": "stream",
       "stream": "stdout",
       "text": [
        "0 -20\n",
        "1 -13\n",
        "2 -1\n",
        "3 11\n",
        "4 18\n",
        "5 25\n",
        "6 32\n"
       ]
      }
     ],
     "prompt_number": 2
    },
    {
     "cell_type": "code",
     "collapsed": false,
     "input": [
      "x=[1,2,3]\n",
      "y=[1,2,3]\n",
      "zip(x,y)\n"
     ],
     "language": "python",
     "metadata": {},
     "outputs": [
      {
       "metadata": {},
       "output_type": "pyout",
       "prompt_number": 8,
       "text": [
        "[(1, 1), (2, 2), (3, 3)]"
       ]
      }
     ],
     "prompt_number": 8
    },
    {
     "cell_type": "code",
     "collapsed": false,
     "input": [
      "Fdegrees= [1,2,3,4,5,6,7]\n",
      "for C,F in zip(Cdegrees, Fdegrees):\n",
      "    print \"{:5f.1f}, {:5f.1f}\".format(C, F)\n",
      "    "
     ],
     "language": "python",
     "metadata": {},
     "outputs": [
      {
       "ename": "ValueError",
       "evalue": "Invalid conversion specification",
       "output_type": "pyerr",
       "traceback": [
        "\u001b[0;31m---------------------------------------------------------------------------\u001b[0m\n\u001b[0;31mValueError\u001b[0m                                Traceback (most recent call last)",
        "\u001b[0;32m<ipython-input-12-6bdfdb84cd8b>\u001b[0m in \u001b[0;36m<module>\u001b[0;34m()\u001b[0m\n\u001b[1;32m      1\u001b[0m \u001b[0mFdegrees\u001b[0m\u001b[0;34m=\u001b[0m \u001b[0;34m[\u001b[0m\u001b[0;36m1\u001b[0m\u001b[0;34m,\u001b[0m\u001b[0;36m2\u001b[0m\u001b[0;34m,\u001b[0m\u001b[0;36m3\u001b[0m\u001b[0;34m,\u001b[0m\u001b[0;36m4\u001b[0m\u001b[0;34m,\u001b[0m\u001b[0;36m5\u001b[0m\u001b[0;34m,\u001b[0m\u001b[0;36m6\u001b[0m\u001b[0;34m,\u001b[0m\u001b[0;36m7\u001b[0m\u001b[0;34m]\u001b[0m\u001b[0;34m\u001b[0m\u001b[0m\n\u001b[1;32m      2\u001b[0m \u001b[0;32mfor\u001b[0m \u001b[0mC\u001b[0m\u001b[0;34m,\u001b[0m\u001b[0mF\u001b[0m \u001b[0;32min\u001b[0m \u001b[0mzip\u001b[0m\u001b[0;34m(\u001b[0m\u001b[0mCdegrees\u001b[0m\u001b[0;34m,\u001b[0m \u001b[0mFdegrees\u001b[0m\u001b[0;34m)\u001b[0m\u001b[0;34m:\u001b[0m\u001b[0;34m\u001b[0m\u001b[0m\n\u001b[0;32m----> 3\u001b[0;31m     \u001b[0;32mprint\u001b[0m \u001b[0;34m\"{:5f.1f}, {:5f.1f}\"\u001b[0m\u001b[0;34m.\u001b[0m\u001b[0mformat\u001b[0m\u001b[0;34m(\u001b[0m\u001b[0mC\u001b[0m\u001b[0;34m,\u001b[0m \u001b[0mF\u001b[0m\u001b[0;34m)\u001b[0m\u001b[0;34m\u001b[0m\u001b[0m\n\u001b[0m\u001b[1;32m      4\u001b[0m \u001b[0;34m\u001b[0m\u001b[0m\n",
        "\u001b[0;31mValueError\u001b[0m: Invalid conversion specification"
       ]
      }
     ],
     "prompt_number": 12
    },
    {
     "cell_type": "code",
     "collapsed": false,
     "input": [
      "Cdegrees=[(-5+5*i) for i in range (0,21)]\n",
      "Fdegrees= [(9.0/5)*(-5 + 0.5*1) + 32. for i in range(0,21)]\n",
      "table2= [[C,F] for C,F in zip(Cdegrees, Fdegrees)]\n",
      "print table2\n",
      "\n"
     ],
     "language": "python",
     "metadata": {},
     "outputs": [
      {
       "output_type": "stream",
       "stream": "stdout",
       "text": [
        "[[-5, 23.9], [0, 23.9], [5, 23.9], [10, 23.9], [15, 23.9], [20, 23.9], [25, 23.9], [30, 23.9], [35, 23.9], [40, 23.9], [45, 23.9], [50, 23.9], [55, 23.9], [60, 23.9], [65, 23.9], [70, 23.9], [75, 23.9], [80, 23.9], [85, 23.9], [90, 23.9], [95, 23.9]]\n"
       ]
      }
     ],
     "prompt_number": 14
    },
    {
     "cell_type": "code",
     "collapsed": false,
     "input": [
      "table=(Cdegrees,Fdegrees)\n",
      "newtable=table[0:1][0]\n",
      "print newtable"
     ],
     "language": "python",
     "metadata": {},
     "outputs": [
      {
       "output_type": "stream",
       "stream": "stdout",
       "text": [
        "[-5, 0, 5, 10, 15, 20, 25, 30, 35, 40, 45, 50, 55, 60, 65, 70, 75, 80, 85, 90, 95]\n"
       ]
      }
     ],
     "prompt_number": 15
    }
   ],
   "metadata": {}
  }
 ]
}