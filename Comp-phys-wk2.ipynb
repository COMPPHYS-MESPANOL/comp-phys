{
 "metadata": {
  "name": "",
  "signature": "sha256:d82a68f3b2a2089c038fb1451431a8638b27231cd89ff42acf5cde1c46d5ba2f"
 },
 "nbformat": 3,
 "nbformat_minor": 0,
 "worksheets": [
  {
   "cells": [
    {
     "cell_type": "code",
     "collapsed": false,
     "input": [
      "from math import pi \n",
      "s=0\n",
      "max=1000\n",
      "\n",
      "for i in range(max):\n",
      "    s += 1./(i+1)**2\n",
      "    \n",
      "print 'With the for loop, the sum is' , s    \n",
      "\n",
      "i=1\n",
      "s=0\n",
      "\n",
      "while i<= max:\n",
      "    s += 1./i**2\n",
      "    i=i+1\n",
      "    \n",
      "print 'With the while loop, the sum is' , s    "
     ],
     "language": "python",
     "metadata": {},
     "outputs": [
      {
       "output_type": "stream",
       "stream": "stdout",
       "text": [
        "With the for loop, the sum is 1.64393456668\n",
        "With the while loop, the sum is 1.64393456668\n"
       ]
      }
     ],
     "prompt_number": 3
    },
    {
     "cell_type": "code",
     "collapsed": false,
     "input": [
      "a= 'hello'\n",
      "space = ' '\n",
      "b= 'world'\n",
      "print a + space + b"
     ],
     "language": "python",
     "metadata": {},
     "outputs": [
      {
       "output_type": "stream",
       "stream": "stdout",
       "text": [
        "hello world\n"
       ]
      }
     ],
     "prompt_number": 4
    },
    {
     "cell_type": "code",
     "collapsed": false,
     "input": [
      "b= bool(1)\n",
      "print b\n",
      "b= bool(20)\n",
      "print b\n",
      "b= bool(-3)\n",
      "print b\n",
      "b= bool(0)\n",
      "print b\n",
      "b= bool(0.)\n",
      "print b\n",
      "b= bool(2.5)\n",
      "print b"
     ],
     "language": "python",
     "metadata": {},
     "outputs": [
      {
       "output_type": "stream",
       "stream": "stdout",
       "text": [
        "True\n",
        "True\n",
        "True\n",
        "False\n",
        "False\n",
        "True\n"
       ]
      }
     ],
     "prompt_number": 5
    },
    {
     "cell_type": "code",
     "collapsed": false,
     "input": [
      "Cdegrees = [-20, -15, -5, 5, 10, 15, 20]\n",
      "for C in Cdegrees:\n",
      "    print C in Cdegrees\n",
      "    F = (9.0/5)*C + 32.\n",
      "    print '%5d %5.1f' % (C,F)"
     ],
     "language": "python",
     "metadata": {},
     "outputs": [
      {
       "output_type": "stream",
       "stream": "stdout",
       "text": [
        "True\n",
        "  -20  -4.0\n",
        "True\n",
        "  -15   5.0\n",
        "True\n",
        "   -5  23.0\n",
        "True\n",
        "    5  41.0\n",
        "True\n",
        "   10  50.0\n",
        "True\n",
        "   15  59.0\n",
        "True\n",
        "   20  68.0\n"
       ]
      }
     ],
     "prompt_number": 6
    },
    {
     "cell_type": "code",
     "collapsed": false,
     "input": [
      "Cdegrees = [-20, -15, -5, 5, 10, 15, 20]\n",
      "x=0\n",
      "while x < len(Cdegrees):\n",
      "    print C in Cdegrees\n",
      "    F = (9.0/5)*Cdegrees[x] + 32.\n",
      "    print '%5d %5.1f' % (Cdegrees[x],F)\n",
      "    x +=1"
     ],
     "language": "python",
     "metadata": {},
     "outputs": [
      {
       "output_type": "stream",
       "stream": "stdout",
       "text": [
        "True\n",
        "  -20  -4.0\n",
        "True\n",
        "  -15   5.0\n",
        "True\n",
        "   -5  23.0\n",
        "True\n",
        "    5  41.0\n",
        "True\n",
        "   10  50.0\n",
        "True\n",
        "   15  59.0\n",
        "True\n",
        "   20  68.0\n"
       ]
      }
     ],
     "prompt_number": 9
    },
    {
     "cell_type": "code",
     "collapsed": false,
     "input": [],
     "language": "python",
     "metadata": {},
     "outputs": []
    }
   ],
   "metadata": {}
  }
 ]
}