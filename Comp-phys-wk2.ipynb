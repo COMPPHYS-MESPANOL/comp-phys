{
 "metadata": {
  "name": "",
  "signature": "sha256:d04a6f0e75eac3f658d881bb30fc77da60f3ef31d46f18f73c3370236d56d07f"
 },
 "nbformat": 3,
 "nbformat_minor": 0,
 "worksheets": [
  {
   "cells": [
    {
     "cell_type": "code",
     "collapsed": false,
     "input": [
      "from math import pi \n",
      "s=0\n",
      "max=1000\n",
      "\n",
      "for i in range(max):\n",
      "    s += 1./(i+1)**2\n",
      "    \n",
      "print 'With the for loop, the sum is' , s    \n",
      "\n",
      "i=1\n",
      "s=0\n",
      "\n",
      "while i<= max:\n",
      "    s += 1./i**2\n",
      "    i=i+1\n",
      "    \n",
      "print 'With the while loop, the sum is' , s    "
     ],
     "language": "python",
     "metadata": {},
     "outputs": [
      {
       "output_type": "stream",
       "stream": "stdout",
       "text": [
        "With the for loop, the sum is 1.64393456668\n",
        "With the while loop, the sum is 1.64393456668\n"
       ]
      }
     ],
     "prompt_number": 3
    },
    {
     "cell_type": "code",
     "collapsed": false,
     "input": [],
     "language": "python",
     "metadata": {},
     "outputs": []
    },
    {
     "cell_type": "code",
     "collapsed": false,
     "input": [
      "a= 'hello'\n",
      "space = ' '\n",
      "b= 'world'\n",
      "print a + space + b"
     ],
     "language": "python",
     "metadata": {},
     "outputs": [
      {
       "output_type": "stream",
       "stream": "stdout",
       "text": [
        "hello world\n"
       ]
      }
     ],
     "prompt_number": 4
    },
    {
     "cell_type": "code",
     "collapsed": false,
     "input": [
      "b= bool(1)\n",
      "print b\n",
      "b= bool(20)\n",
      "print b\n",
      "b= bool(-3)\n",
      "print b\n",
      "b= bool(0)\n",
      "print b\n",
      "b= bool(0.)\n",
      "print b\n",
      "b= bool(2.5)\n",
      "print b"
     ],
     "language": "python",
     "metadata": {},
     "outputs": [
      {
       "output_type": "stream",
       "stream": "stdout",
       "text": [
        "True\n",
        "True\n",
        "True\n",
        "False\n",
        "False\n",
        "True\n"
       ]
      }
     ],
     "prompt_number": 5
    },
    {
     "cell_type": "code",
     "collapsed": false,
     "input": [
      "Cdegrees = [-20, -15, -5, 5, 10, 15, 20]\n",
      "for C in Cdegrees:\n",
      "    print C in Cdegrees\n",
      "    F = (9.0/5)*C + 32.\n",
      "    print '%5d %5.1f' % (C,F)"
     ],
     "language": "python",
     "metadata": {},
     "outputs": [
      {
       "output_type": "stream",
       "stream": "stdout",
       "text": [
        "True\n",
        "  -20  -4.0\n",
        "True\n",
        "  -15   5.0\n",
        "True\n",
        "   -5  23.0\n",
        "True\n",
        "    5  41.0\n",
        "True\n",
        "   10  50.0\n",
        "True\n",
        "   15  59.0\n",
        "True\n",
        "   20  68.0\n"
       ]
      }
     ],
     "prompt_number": 6
    },
    {
     "cell_type": "code",
     "collapsed": false,
     "input": [
      "Cdegrees = [-20, -15, -5, 5, 10, 15, 20]\n",
      "x=0\n",
      "while x < len(Cdegrees):\n",
      "    print C in Cdegrees\n",
      "    F = (9.0/5)*Cdegrees[x] + 32.\n",
      "    print '%5d %5.1f' % (Cdegrees[x],F)\n",
      "    x +=1"
     ],
     "language": "python",
     "metadata": {},
     "outputs": [
      {
       "output_type": "stream",
       "stream": "stdout",
       "text": [
        "True\n",
        "  -20  -4.0\n",
        "True\n",
        "  -15   5.0\n",
        "True\n",
        "   -5  23.0\n",
        "True\n",
        "    5  41.0\n",
        "True\n",
        "   10  50.0\n",
        "True\n",
        "   15  59.0\n",
        "True\n",
        "   20  68.0\n"
       ]
      }
     ],
     "prompt_number": 9
    },
    {
     "cell_type": "code",
     "collapsed": false,
     "input": [
      "a= [1, 2, 3, 4, 5]\n",
      "r= a[:]\n",
      "s=a\n",
      "print 'r == a:' , r==a\n",
      "print 'r is a:' , r is a\n",
      "print 's == a:' , s==a\n",
      "print 's is a;' , s is a"
     ],
     "language": "python",
     "metadata": {},
     "outputs": [
      {
       "output_type": "stream",
       "stream": "stdout",
       "text": [
        "r == a: True\n",
        "r is a: False\n",
        "s == a: True\n",
        "s is a; True\n"
       ]
      }
     ],
     "prompt_number": 14
    },
    {
     "cell_type": "code",
     "collapsed": false,
     "input": [
      "import copy\n",
      "c=copy.copy(a)\n",
      "print 'c == a:' , c==a\n",
      "print 'c is a:' , c is a"
     ],
     "language": "python",
     "metadata": {},
     "outputs": [
      {
       "output_type": "stream",
       "stream": "stdout",
       "text": [
        "c == a: True\n",
        "c is a: False\n"
       ]
      }
     ],
     "prompt_number": 16
    },
    {
     "cell_type": "code",
     "collapsed": false,
     "input": [
      "a.append(1.4e5)\n",
      "print 'a:', a\n",
      "print 'r:' , r\n",
      "print 's:' , s\n",
      "print 'c:' , c"
     ],
     "language": "python",
     "metadata": {},
     "outputs": [
      {
       "output_type": "stream",
       "stream": "stdout",
       "text": [
        "a: [1, 2, 3, 4, 5, 140000.0, 140000.0]\n",
        "r: [1, 2, 3, 4, 5]\n",
        "s: [1, 2, 3, 4, 5, 140000.0, 140000.0]\n",
        "c: [1, 2, 3, 4, 5, 140000.0]\n"
       ]
      }
     ],
     "prompt_number": 17
    },
    {
     "cell_type": "code",
     "collapsed": false,
     "input": [
      "Cdegrees = [-20, -15, -5, 5, 10, 15, 20]\n",
      "for i, c in enumerate(Cdegrees):\n",
      "    Cdegrees[i] = c+2*i\n",
      "    print i, Cdegrees[i]\n",
      "    \n"
     ],
     "language": "python",
     "metadata": {},
     "outputs": [
      {
       "output_type": "stream",
       "stream": "stdout",
       "text": [
        "0 -20\n",
        "1 -13\n",
        "2 -1\n",
        "3 11\n",
        "4 18\n",
        "5 25\n",
        "6 32\n"
       ]
      }
     ],
     "prompt_number": 2
    },
    {
     "cell_type": "code",
     "collapsed": false,
     "input": [
      "x=[1,2,3]\n",
      "y=[1,2,3]\n",
      "zip(x,y)\n"
     ],
     "language": "python",
     "metadata": {},
     "outputs": [
      {
       "metadata": {},
       "output_type": "pyout",
       "prompt_number": 8,
       "text": [
        "[(1, 1), (2, 2), (3, 3)]"
       ]
      }
     ],
     "prompt_number": 8
    },
    {
     "cell_type": "code",
     "collapsed": false,
     "input": [
      "Fdegrees= [1,2,3,4,5,6,7]\n",
      "for C,F in zip(Cdegrees, Fdegrees):\n",
      "    print \"{:5f.1f}, {:5f.1f}\".format(C, F)\n",
      "    "
     ],
     "language": "python",
     "metadata": {},
     "outputs": [
      {
       "ename": "ValueError",
       "evalue": "Invalid conversion specification",
       "output_type": "pyerr",
       "traceback": [
        "\u001b[0;31m---------------------------------------------------------------------------\u001b[0m\n\u001b[0;31mValueError\u001b[0m                                Traceback (most recent call last)",
        "\u001b[0;32m<ipython-input-12-6bdfdb84cd8b>\u001b[0m in \u001b[0;36m<module>\u001b[0;34m()\u001b[0m\n\u001b[1;32m      1\u001b[0m \u001b[0mFdegrees\u001b[0m\u001b[0;34m=\u001b[0m \u001b[0;34m[\u001b[0m\u001b[0;36m1\u001b[0m\u001b[0;34m,\u001b[0m\u001b[0;36m2\u001b[0m\u001b[0;34m,\u001b[0m\u001b[0;36m3\u001b[0m\u001b[0;34m,\u001b[0m\u001b[0;36m4\u001b[0m\u001b[0;34m,\u001b[0m\u001b[0;36m5\u001b[0m\u001b[0;34m,\u001b[0m\u001b[0;36m6\u001b[0m\u001b[0;34m,\u001b[0m\u001b[0;36m7\u001b[0m\u001b[0;34m]\u001b[0m\u001b[0;34m\u001b[0m\u001b[0m\n\u001b[1;32m      2\u001b[0m \u001b[0;32mfor\u001b[0m \u001b[0mC\u001b[0m\u001b[0;34m,\u001b[0m\u001b[0mF\u001b[0m \u001b[0;32min\u001b[0m \u001b[0mzip\u001b[0m\u001b[0;34m(\u001b[0m\u001b[0mCdegrees\u001b[0m\u001b[0;34m,\u001b[0m \u001b[0mFdegrees\u001b[0m\u001b[0;34m)\u001b[0m\u001b[0;34m:\u001b[0m\u001b[0;34m\u001b[0m\u001b[0m\n\u001b[0;32m----> 3\u001b[0;31m     \u001b[0;32mprint\u001b[0m \u001b[0;34m\"{:5f.1f}, {:5f.1f}\"\u001b[0m\u001b[0;34m.\u001b[0m\u001b[0mformat\u001b[0m\u001b[0;34m(\u001b[0m\u001b[0mC\u001b[0m\u001b[0;34m,\u001b[0m \u001b[0mF\u001b[0m\u001b[0;34m)\u001b[0m\u001b[0;34m\u001b[0m\u001b[0m\n\u001b[0m\u001b[1;32m      4\u001b[0m \u001b[0;34m\u001b[0m\u001b[0m\n",
        "\u001b[0;31mValueError\u001b[0m: Invalid conversion specification"
       ]
      }
     ],
     "prompt_number": 12
    },
    {
     "cell_type": "code",
     "collapsed": false,
     "input": [
      "Cdegrees=[(-5+.5*i) for i in range (0,21)]\n",
      "Fdegrees= [(9.0/5)*(-5 + 0.5*i) + 32. for i in range(0,21)]\n",
      "table2= [[C,F] for C,F in zip(Cdegrees, Fdegrees)]\n",
      "\n",
      "\n",
      "from pprint import pprint\n",
      "pprint (table2)\n",
      "\n"
     ],
     "language": "python",
     "metadata": {},
     "outputs": [
      {
       "output_type": "stream",
       "stream": "stdout",
       "text": [
        "[[-5.0, 23.0],\n",
        " [-4.5, 23.9],\n",
        " [-4.0, 24.8],\n",
        " [-3.5, 25.7],\n",
        " [-3.0, 26.6],\n",
        " [-2.5, 27.5],\n",
        " [-2.0, 28.4],\n",
        " [-1.5, 29.3],\n",
        " [-1.0, 30.2],\n",
        " [-0.5, 31.1],\n",
        " [0.0, 32.0],\n",
        " [0.5, 32.9],\n",
        " [1.0, 33.8],\n",
        " [1.5, 34.7],\n",
        " [2.0, 35.6],\n",
        " [2.5, 36.5],\n",
        " [3.0, 37.4],\n",
        " [3.5, 38.3],\n",
        " [4.0, 39.2],\n",
        " [4.5, 40.1],\n",
        " [5.0, 41.0]]\n"
       ]
      }
     ],
     "prompt_number": 18
    },
    {
     "cell_type": "code",
     "collapsed": false,
     "input": [],
     "language": "python",
     "metadata": {},
     "outputs": []
    },
    {
     "cell_type": "code",
     "collapsed": false,
     "input": [
      "table=(Cdegrees,Fdegrees)\n",
      "newtable=table[0:1][0]\n",
      "print newtable"
     ],
     "language": "python",
     "metadata": {},
     "outputs": [
      {
       "output_type": "stream",
       "stream": "stdout",
       "text": [
        "[-5, 0, 5, 10, 15, 20, 25, 30, 35, 40, 45, 50, 55, 60, 65, 70, 75, 80, 85, 90, 95]\n"
       ]
      }
     ],
     "prompt_number": 15
    },
    {
     "cell_type": "code",
     "collapsed": false,
     "input": [
      "scores = []\n",
      "scores.append([12, 16, 11, 12])\n",
      "scores.append([9])\n",
      "scores.append([6,9,11,14,17,15,14,20])\n"
     ],
     "language": "python",
     "metadata": {},
     "outputs": [],
     "prompt_number": 20
    },
    {
     "cell_type": "code",
     "collapsed": false,
     "input": [
      "for p in scores:\n",
      "    for g in p:\n",
      "        print '{:4d}' .format(g),        #the comma causes the lists to print horizontally\n",
      "    print\n",
      "    "
     ],
     "language": "python",
     "metadata": {},
     "outputs": [
      {
       "output_type": "stream",
       "stream": "stdout",
       "text": [
        "  12   16   11   12\n",
        "   9\n",
        "   6    9   11   14   17   15   14   20\n"
       ]
      }
     ],
     "prompt_number": 22
    },
    {
     "cell_type": "code",
     "collapsed": false,
     "input": [
      "t = ('shark', 2, 'text.txt', 6.0)\n",
      "t[1]"
     ],
     "language": "python",
     "metadata": {},
     "outputs": [
      {
       "metadata": {},
       "output_type": "pyout",
       "prompt_number": 23,
       "text": [
        "2"
       ]
      }
     ],
     "prompt_number": 23
    },
    {
     "cell_type": "code",
     "collapsed": false,
     "input": [
      "t[1] =4          #tuples are immutable []=list, ()=tuple"
     ],
     "language": "python",
     "metadata": {},
     "outputs": [
      {
       "ename": "TypeError",
       "evalue": "'tuple' object does not support item assignment",
       "output_type": "pyerr",
       "traceback": [
        "\u001b[0;31m---------------------------------------------------------------------------\u001b[0m\n\u001b[0;31mTypeError\u001b[0m                                 Traceback (most recent call last)",
        "\u001b[0;32m<ipython-input-24-b28d04243794>\u001b[0m in \u001b[0;36m<module>\u001b[0;34m()\u001b[0m\n\u001b[0;32m----> 1\u001b[0;31m \u001b[0mt\u001b[0m\u001b[0;34m[\u001b[0m\u001b[0;36m1\u001b[0m\u001b[0;34m]\u001b[0m \u001b[0;34m=\u001b[0m\u001b[0;36m4\u001b[0m\u001b[0;34m\u001b[0m\u001b[0m\n\u001b[0m",
        "\u001b[0;31mTypeError\u001b[0m: 'tuple' object does not support item assignment"
       ]
      }
     ],
     "prompt_number": 24
    },
    {
     "cell_type": "code",
     "collapsed": false,
     "input": [
      "'''functions'''\n",
      "def F(C):\n",
      "    return (9./5)*C + 32.\n",
      "a=10.\n",
      "F1=F(a)\n",
      "F1"
     ],
     "language": "python",
     "metadata": {},
     "outputs": [
      {
       "metadata": {},
       "output_type": "pyout",
       "prompt_number": 25,
       "text": [
        "50.0"
       ]
      }
     ],
     "prompt_number": 25
    },
    {
     "cell_type": "code",
     "collapsed": false,
     "input": [
      "Fdegrees = [F(C) for C in Cdegrees]\n",
      "Fdegrees"
     ],
     "language": "python",
     "metadata": {},
     "outputs": [
      {
       "metadata": {},
       "output_type": "pyout",
       "prompt_number": 26,
       "text": [
        "[23.0,\n",
        " 23.9,\n",
        " 24.8,\n",
        " 25.7,\n",
        " 26.6,\n",
        " 27.5,\n",
        " 28.4,\n",
        " 29.3,\n",
        " 30.2,\n",
        " 31.1,\n",
        " 32.0,\n",
        " 32.9,\n",
        " 33.8,\n",
        " 34.7,\n",
        " 35.6,\n",
        " 36.5,\n",
        " 37.4,\n",
        " 38.3,\n",
        " 39.2,\n",
        " 40.1,\n",
        " 41.0]"
       ]
      }
     ],
     "prompt_number": 26
    },
    {
     "cell_type": "code",
     "collapsed": false,
     "input": [
      "-to change global variables, declare a varaible to be global\n"
     ],
     "language": "python",
     "metadata": {},
     "outputs": []
    },
    {
     "cell_type": "code",
     "collapsed": false,
     "input": [
      "#won't work bcuase of a\n",
      "a=3\n",
      "print \"outside f(), a = \", a\n",
      "def f():\n",
      "    b=3\n",
      "    a=1./a\n",
      "    print \"inside f(), a= \", a\n",
      "    return\n",
      "\n",
      "f()\n",
      "print \"outside f(), a= \", a"
     ],
     "language": "python",
     "metadata": {},
     "outputs": [
      {
       "output_type": "stream",
       "stream": "stdout",
       "text": [
        "outside f(), a =  3\n"
       ]
      },
      {
       "ename": "UnboundLocalError",
       "evalue": "local variable 'a' referenced before assignment",
       "output_type": "pyerr",
       "traceback": [
        "\u001b[0;31m---------------------------------------------------------------------------\u001b[0m\n\u001b[0;31mUnboundLocalError\u001b[0m                         Traceback (most recent call last)",
        "\u001b[0;32m<ipython-input-2-1682c42a07eb>\u001b[0m in \u001b[0;36m<module>\u001b[0;34m()\u001b[0m\n\u001b[1;32m      7\u001b[0m     \u001b[0;32mreturn\u001b[0m\u001b[0;34m\u001b[0m\u001b[0m\n\u001b[1;32m      8\u001b[0m \u001b[0;34m\u001b[0m\u001b[0m\n\u001b[0;32m----> 9\u001b[0;31m \u001b[0mf\u001b[0m\u001b[0;34m(\u001b[0m\u001b[0;34m)\u001b[0m\u001b[0;34m\u001b[0m\u001b[0m\n\u001b[0m\u001b[1;32m     10\u001b[0m \u001b[0;32mprint\u001b[0m \u001b[0;34m\"outside f(), a= \"\u001b[0m\u001b[0;34m,\u001b[0m \u001b[0ma\u001b[0m\u001b[0;34m\u001b[0m\u001b[0m\n",
        "\u001b[0;32m<ipython-input-2-1682c42a07eb>\u001b[0m in \u001b[0;36mf\u001b[0;34m()\u001b[0m\n\u001b[1;32m      3\u001b[0m \u001b[0;32mdef\u001b[0m \u001b[0mf\u001b[0m\u001b[0;34m(\u001b[0m\u001b[0;34m)\u001b[0m\u001b[0;34m:\u001b[0m\u001b[0;34m\u001b[0m\u001b[0m\n\u001b[1;32m      4\u001b[0m     \u001b[0mb\u001b[0m\u001b[0;34m=\u001b[0m\u001b[0;36m3\u001b[0m\u001b[0;34m\u001b[0m\u001b[0m\n\u001b[0;32m----> 5\u001b[0;31m     \u001b[0ma\u001b[0m\u001b[0;34m=\u001b[0m\u001b[0;36m1.\u001b[0m\u001b[0;34m/\u001b[0m\u001b[0ma\u001b[0m\u001b[0;34m\u001b[0m\u001b[0m\n\u001b[0m\u001b[1;32m      6\u001b[0m     \u001b[0;32mprint\u001b[0m \u001b[0;34m\"inside f(), a= \"\u001b[0m\u001b[0;34m,\u001b[0m \u001b[0ma\u001b[0m\u001b[0;34m\u001b[0m\u001b[0m\n\u001b[1;32m      7\u001b[0m     \u001b[0;32mreturn\u001b[0m\u001b[0;34m\u001b[0m\u001b[0m\n",
        "\u001b[0;31mUnboundLocalError\u001b[0m: local variable 'a' referenced before assignment"
       ]
      }
     ],
     "prompt_number": 2
    },
    {
     "cell_type": "code",
     "collapsed": false,
     "input": [
      "#changing global\n",
      "a=3\n",
      "print \"outside f(), a = \", a\n",
      "def f():\n",
      "    b=3\n",
      "    global a\n",
      "    a=1./a\n",
      "    print \"inside f(), a= \", a\n",
      "    return\n",
      "\n",
      "f()\n",
      "print \"outside f(), a= \", a"
     ],
     "language": "python",
     "metadata": {},
     "outputs": [
      {
       "output_type": "stream",
       "stream": "stdout",
       "text": [
        "outside f(), a =  3\n",
        "inside f(), a=  0.333333333333\n",
        "outside f(), a=  0.333333333333\n"
       ]
      }
     ],
     "prompt_number": 3
    },
    {
     "cell_type": "code",
     "collapsed": false,
     "input": [
      "#taking inverse\n",
      "a=3\n",
      "print \"outside f(), a = \", a\n",
      "def f():\n",
      "    b=3\n",
      "    d=1./a\n",
      "    print \"inside f(), a= \", d\n",
      "    return\n",
      "\n",
      "f()\n",
      "print \"outside f(), a= \", a"
     ],
     "language": "python",
     "metadata": {},
     "outputs": [
      {
       "output_type": "stream",
       "stream": "stdout",
       "text": [
        "outside f(), a =  3\n",
        "inside f(), a=  0.333333333333\n",
        "outside f(), a=  3\n"
       ]
      }
     ],
     "prompt_number": 4
    },
    {
     "cell_type": "code",
     "collapsed": false,
     "input": [
      "#positional arguments\n",
      "def yfunc(t,v0):\n",
      "    g=9.81\n",
      "    return v0*t - 0.5*g*t**2\n",
      "print yfunc(10,100)\n",
      "print yfunc(100,10)\n",
      "print 'docstring for yfunc():' , yfunc.__doc__\n",
      "print 'docstring for yfunc():' , sum.__doc__"
     ],
     "language": "python",
     "metadata": {},
     "outputs": [
      {
       "output_type": "stream",
       "stream": "stdout",
       "text": [
        "509.5\n",
        "-48050.0\n",
        "docstring for yfunc(): None\n",
        "docstring for yfunc(): sum(sequence[, start]) -> value\n",
        "\n",
        "Return the sum of a sequence of numbers (NOT strings) plus the value\n",
        "of parameter 'start' (which defaults to 0).  When the sequence is\n",
        "empty, return start.\n"
       ]
      }
     ],
     "prompt_number": 6
    },
    {
     "cell_type": "code",
     "collapsed": false,
     "input": [
      "#keyword arguments\n",
      "def yfunc2(t=1,v0=0):\n",
      "    g=9.81\n",
      "    return v0*t - 0.5*g*t**2\n",
      "print yfunc(t=10,v0=100)\n",
      "print yfunc(v0=100,t=10)\n",
      "print 'docstring for yfunc():' , yfunc.__doc__\n",
      "print 'docstring for yfunc():' , sum.__doc__"
     ],
     "language": "python",
     "metadata": {},
     "outputs": [
      {
       "output_type": "stream",
       "stream": "stdout",
       "text": [
        "509.5\n",
        "509.5\n",
        "docstring for yfunc(): None\n",
        "docstring for yfunc(): sum(sequence[, start]) -> value\n",
        "\n",
        "Return the sum of a sequence of numbers (NOT strings) plus the value\n",
        "of parameter 'start' (which defaults to 0).  When the sequence is\n",
        "empty, return start.\n"
       ]
      }
     ],
     "prompt_number": 7
    },
    {
     "cell_type": "code",
     "collapsed": false,
     "input": [
      "#line magic\n",
      "%timeit range(1000)\n",
      "\n",
      "\n",
      "\n"
     ],
     "language": "python",
     "metadata": {},
     "outputs": [
      {
       "output_type": "stream",
       "stream": "stdout",
       "text": [
        "100000 loops, best of 3: 9.87 \u00b5s per loop\n",
        "100000 loops, best of 3: 9.92 \u00b5s per loop"
       ]
      },
      {
       "output_type": "stream",
       "stream": "stdout",
       "text": [
        "\n"
       ]
      },
      {
       "ename": "NameError",
       "evalue": "name 'x' is not defined",
       "output_type": "pyerr",
       "traceback": [
        "\u001b[0;31m---------------------------------------------------------------------------\u001b[0m\n\u001b[0;31mNameError\u001b[0m                                 Traceback (most recent call last)",
        "\u001b[0;32m<ipython-input-9-3c3ac248beea>\u001b[0m in \u001b[0;36m<module>\u001b[0;34m()\u001b[0m\n\u001b[1;32m      4\u001b[0m \u001b[0;31m#cell magic\u001b[0m\u001b[0;34m\u001b[0m\u001b[0;34m\u001b[0m\u001b[0m\n\u001b[1;32m      5\u001b[0m \u001b[0mget_ipython\u001b[0m\u001b[0;34m(\u001b[0m\u001b[0;34m)\u001b[0m\u001b[0;34m.\u001b[0m\u001b[0mmagic\u001b[0m\u001b[0;34m(\u001b[0m\u001b[0;34mu'timeit x = range(1000)'\u001b[0m\u001b[0;34m)\u001b[0m\u001b[0;34m\u001b[0m\u001b[0m\n\u001b[0;32m----> 6\u001b[0;31m \u001b[0mmax\u001b[0m\u001b[0;34m(\u001b[0m\u001b[0mx\u001b[0m\u001b[0;34m)\u001b[0m\u001b[0;34m\u001b[0m\u001b[0m\n\u001b[0m",
        "\u001b[0;31mNameError\u001b[0m: name 'x' is not defined"
       ]
      }
     ],
     "prompt_number": 9
    },
    {
     "cell_type": "code",
     "collapsed": false,
     "input": [
      "#cell magic\n",
      "%%timeit range(1000)\n",
      "x=1"
     ],
     "language": "python",
     "metadata": {},
     "outputs": [
      {
       "ename": "SyntaxError",
       "evalue": "invalid syntax (<ipython-input-10-6be08b66dc1b>, line 2)",
       "output_type": "pyerr",
       "traceback": [
        "\u001b[0;36m  File \u001b[0;32m\"<ipython-input-10-6be08b66dc1b>\"\u001b[0;36m, line \u001b[0;32m2\u001b[0m\n\u001b[0;31m    %%timeit range(1000)\u001b[0m\n\u001b[0m    ^\u001b[0m\n\u001b[0;31mSyntaxError\u001b[0m\u001b[0;31m:\u001b[0m invalid syntax\n"
       ]
      }
     ],
     "prompt_number": 10
    },
    {
     "cell_type": "heading",
     "level": 6,
     "metadata": {},
     "source": []
    },
    {
     "cell_type": "raw",
     "metadata": {},
     "source": [
      "def yfunc(t,v0):\n",
      "    g=9.81\n",
      "    y= v0*t - 0.5*g*t**2\n",
      "    yprime= v0-g*t\n",
      "    return y, yprime\n",
      "pos,vel= yfunc(2,10)\n",
      "print 'position = {:10.2g} velocity = {:10.2g}'.format(pos,vel)\n",
      "print 'position = {:+10.2g} velocity = {:+10.2g}'.format(pos,vel)     #the + will show the sign of every number\n",
      "print 'position = {:+10.2g} velocity = {:10.2g}'.format(*yfunc(2,10))   #the * (the unpacking operator)"
     ]
    },
    {
     "cell_type": "code",
     "collapsed": false,
     "input": [
      "print range(3,6)\n",
      "\n",
      "range_params = [3,6]          #can use with a list\n",
      "print range(*range_params)\n",
      "\n",
      "range_params = 3,6             #can use with tuple\n",
      "print range(*range_params)\n",
      "\n",
      "print range(range_params)      #last one wont work because without *, the tuple is just an object if unpacked"
     ],
     "language": "python",
     "metadata": {},
     "outputs": [
      {
       "output_type": "stream",
       "stream": "stdout",
       "text": [
        "[3, 4, 5]\n",
        "[3, 4, 5]\n",
        "[3, 4, 5]\n"
       ]
      },
      {
       "ename": "TypeError",
       "evalue": "range() integer end argument expected, got tuple.",
       "output_type": "pyerr",
       "traceback": [
        "\u001b[0;31m---------------------------------------------------------------------------\u001b[0m\n\u001b[0;31mTypeError\u001b[0m                                 Traceback (most recent call last)",
        "\u001b[0;32m<ipython-input-15-963b12b886cc>\u001b[0m in \u001b[0;36m<module>\u001b[0;34m()\u001b[0m\n\u001b[1;32m      7\u001b[0m \u001b[0;32mprint\u001b[0m \u001b[0mrange\u001b[0m\u001b[0;34m(\u001b[0m\u001b[0;34m*\u001b[0m\u001b[0mrange_params\u001b[0m\u001b[0;34m)\u001b[0m\u001b[0;34m\u001b[0m\u001b[0m\n\u001b[1;32m      8\u001b[0m \u001b[0;34m\u001b[0m\u001b[0m\n\u001b[0;32m----> 9\u001b[0;31m \u001b[0;32mprint\u001b[0m \u001b[0mrange\u001b[0m\u001b[0;34m(\u001b[0m\u001b[0mrange_params\u001b[0m\u001b[0;34m)\u001b[0m\u001b[0;34m\u001b[0m\u001b[0m\n\u001b[0m",
        "\u001b[0;31mTypeError\u001b[0m: range() integer end argument expected, got tuple."
       ]
      }
     ],
     "prompt_number": 15
    },
    {
     "cell_type": "code",
     "collapsed": false,
     "input": [
      "#find useful list of commands for python debugging by googling \"python pdb\", to use import pdb"
     ],
     "language": "python",
     "metadata": {},
     "outputs": []
    },
    {
     "cell_type": "code",
     "collapsed": false,
     "input": [
      "import pdb\n",
      "\n",
      "x=2.\n",
      "def L(x, n):\n",
      "    approx= 0\n",
      "    #pdb.set_trace()\n",
      "    for i in range(0, n + 1):\n",
      "        approx += (1./(i+1.))*(x/(1.+x))**(i+1.)\n",
      "    return approx\n",
      "    return approx\n",
      "\n",
      "\n",
      "\n",
      "\n",
      "y = L(x, 100)\n",
      "print 'Taylor Series Approximation:', y\n",
      "from math import log  #you would guess math module would have log...yes!\n",
      "exact_val = log(1+x)\n",
      "print 'exact_val', exact_val\n",
      "from math import log1p  #more accurate for small x.\n",
      "print 'log1p output', log1p(x)"
     ],
     "language": "python",
     "metadata": {},
     "outputs": [
      {
       "output_type": "stream",
       "stream": "stdout",
       "text": [
        "Taylor Series Approximation: 1.09861228867\n",
        "exact_val 1.09861228867\n",
        "log1p output 1.09861228867\n"
       ]
      }
     ],
     "prompt_number": 40
    },
    {
     "cell_type": "code",
     "collapsed": false,
     "input": [],
     "language": "python",
     "metadata": {},
     "outputs": []
    }
   ],
   "metadata": {}
  }
 ]
}