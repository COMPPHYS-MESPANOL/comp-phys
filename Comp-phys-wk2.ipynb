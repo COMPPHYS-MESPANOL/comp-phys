{
 "metadata": {
  "name": "",
  "signature": "sha256:0af768b0b7d231df9540daf0f16006ade7b1a824b4e55df963572c000e50a9d4"
 },
 "nbformat": 3,
 "nbformat_minor": 0,
 "worksheets": [
  {
   "cells": [
    {
     "cell_type": "code",
     "collapsed": false,
     "input": [
      "from math import pi \n",
      "s=0\n",
      "max=100\n",
      "\n",
      "for i in range(max):\n",
      "    s += 1./(i+1)**2\n",
      "    \n",
      "print 'With the for loop, the sum is' , s    \n",
      "\n",
      "i=1\n",
      "s=0\n",
      "\n",
      "while i<= max:\n",
      "    s += 1./i**2\n",
      "    i=i+1\n",
      "    \n",
      "print 'With the while loop, the sum is' , s    "
     ],
     "language": "python",
     "metadata": {},
     "outputs": [
      {
       "output_type": "stream",
       "stream": "stdout",
       "text": [
        "With the for loop, the sum is 1.63498390018\n",
        "With the while loop, the sum is 1.63498390018\n"
       ]
      }
     ],
     "prompt_number": 2
    }
   ],
   "metadata": {}
  }
 ]
}