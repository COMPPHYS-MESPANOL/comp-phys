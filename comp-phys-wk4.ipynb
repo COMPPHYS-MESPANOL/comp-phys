{
 "metadata": {
  "name": "",
  "signature": "sha256:e086840f767d96617748ea1e5a71cb6a9f54c6d50016295dddf72aa0c78ed424"
 },
 "nbformat": 3,
 "nbformat_minor": 0,
 "worksheets": [
  {
   "cells": [
    {
     "cell_type": "raw",
     "metadata": {},
     "source": [
      "array:\n",
      "must be all the same type\n",
      "usually to manipulate integers or floats (rarely strings)\n",
      "you must specify how many elements will be in the array\n",
      "arrays are not standard to python, must be imported (numPy)\n",
      "with numpy you can do a wide range of mathematical operations on complete arrrays\n",
      "\n"
     ]
    },
    {
     "cell_type": "code",
     "collapsed": false,
     "input": [
      "#typically:\n",
      "import numpy as np"
     ],
     "language": "python",
     "metadata": {},
     "outputs": []
    },
    {
     "cell_type": "code",
     "collapsed": false,
     "input": [
      "import numpy as np\n",
      "\n",
      "r= range(1,100)\n",
      "a = np.array(r)\n",
      "print type(r), type(a)\n",
      "print a\n"
     ],
     "language": "python",
     "metadata": {},
     "outputs": []
    },
    {
     "cell_type": "code",
     "collapsed": false,
     "input": [
      "#intitializing\n",
      "b=np.zeros(10)\n",
      "print b, type(b)"
     ],
     "language": "python",
     "metadata": {},
     "outputs": []
    },
    {
     "cell_type": "code",
     "collapsed": false,
     "input": [
      "c=np.ones(10)\n",
      "print c"
     ],
     "language": "python",
     "metadata": {},
     "outputs": []
    },
    {
     "cell_type": "code",
     "collapsed": false,
     "input": [
      "d=np.linspace(1,12.4,20)\n",
      "print d, type(d)"
     ],
     "language": "python",
     "metadata": {},
     "outputs": []
    },
    {
     "cell_type": "code",
     "collapsed": false,
     "input": [
      "#accessing an individual element of an array\n",
      "a[3]"
     ],
     "language": "python",
     "metadata": {},
     "outputs": []
    },
    {
     "cell_type": "code",
     "collapsed": false,
     "input": [
      "#array slicing\n",
      "d = b[1:-1]\n",
      "d[3] = 0.2\n",
      "print 'd=', d\n",
      "print 'b=', b"
     ],
     "language": "python",
     "metadata": {},
     "outputs": []
    },
    {
     "cell_type": "code",
     "collapsed": false,
     "input": [
      "#convenience: e^x in two simple lines\n",
      "x=np.linspace(-1,1.,100)\n",
      "y = np.exp(x)\n",
      "print y"
     ],
     "language": "python",
     "metadata": {},
     "outputs": []
    },
    {
     "cell_type": "code",
     "collapsed": false,
     "input": [
      "def convert(Tstart,Tend, numsteps):\n",
      "    Cdegrees=np.linspace(Tstart,Tend,numsteps)\n",
      "    Fdegrees=[(9.0/5)*(-5 + 0.5*i) + 32. for i in Cdegrees]\n",
      "    return Fdegrees\n",
      "\n",
      "convert(0,100,100)"
     ],
     "language": "python",
     "metadata": {},
     "outputs": []
    },
    {
     "cell_type": "code",
     "collapsed": false,
     "input": [
      "#incomplete\n",
      "def conversion:(Tstart, Tend, numsteps):\n",
      "    Cdegrees=[Tstart+i*(Tend-Tstart)/numsteps\n",
      "    Fdegrees= [(9.0/5)*(-5 + 0.5*i) + 32. for i in range(0,21)]\n",
      "    table2= [[C,F] for C,F in zip(Cdegrees, Fdegrees)]\n",
      "\n",
      "\n",
      "from pprint import pprint\n",
      "pprint (table2)"
     ],
     "language": "python",
     "metadata": {},
     "outputs": []
    },
    {
     "cell_type": "raw",
     "metadata": {},
     "source": [
      "review list comprehension"
     ]
    },
    {
     "cell_type": "code",
     "collapsed": false,
     "input": [
      "x=np.arange(1,10,1.)\n",
      "print type(x), x.dtype\n",
      "print x \n",
      "\n",
      "y=np.arange(1,10.1, dtype = np.int64)\n",
      "print type(y), y.dtype\n",
      "print y"
     ],
     "language": "python",
     "metadata": {},
     "outputs": []
    },
    {
     "cell_type": "code",
     "collapsed": false,
     "input": [
      "import numpy as np \n",
      "np.__version__"
     ],
     "language": "python",
     "metadata": {},
     "outputs": []
    },
    {
     "cell_type": "code",
     "collapsed": false,
     "input": [
      "#Array Indexing \n",
      "x=np.linspace(1,10,10)\n",
      "idx = x>5\n",
      "print idx\n",
      "print 'number of elements with value greater than 5:', sum(idx)\n",
      "y = x[idx]\n",
      "print y"
     ],
     "language": "python",
     "metadata": {},
     "outputs": []
    },
    {
     "cell_type": "code",
     "collapsed": false,
     "input": [
      "#alternatively use np.where\n",
      "x=np.linspace(1,10,10)\n",
      "idx = np.where(x>5)      #this is giving the indices greater than 5\n",
      "print idx\n",
      "print 'number of elements with value greater than 5:', len(idx)  #1 becuase the array is one object to get 5 do len(idx[0])\n",
      "y = x[idx]\n",
      "print y\n",
      "print x[5:10]"
     ],
     "language": "python",
     "metadata": {},
     "outputs": []
    },
    {
     "cell_type": "code",
     "collapsed": false,
     "input": [
      "#matplotlib\n",
      "\n",
      "%matplotlib inline\n",
      "import matplotlib.pyplot as plt\n",
      "y=np.linspace(1,100,10)\n",
      "#x is assumed to be the index\n",
      "plt.plot(y)\n",
      "plt.show"
     ],
     "language": "python",
     "metadata": {},
     "outputs": []
    },
    {
     "cell_type": "code",
     "collapsed": false,
     "input": [
      "%matplotlib osx\n",
      "import matplotlib.pyplot as plt\n",
      "y=np.linspace(1,100,10)\n",
      "#x is assumed to be the index\n",
      "plt.plot(y)\n",
      "plt.show"
     ],
     "language": "python",
     "metadata": {},
     "outputs": []
    },
    {
     "cell_type": "code",
     "collapsed": false,
     "input": [
      "#matpltlib functions\n",
      "%matplotlib inline\n",
      "import numpy as np\n",
      "import matplotlib.pyplot as plt\n",
      "y = np.linspace(1e-6, 15, 1000)\n",
      "b= y**3/(np.exp(y)-1)\n",
      "plt.plot(y,b)\n",
      "plt.xlabel('Frequency')\n",
      "plt.ylabel('Energy Density')\n",
      "plt.title('Black Body Spectrum')\n",
      "plt.savefig('planck.pdf')\n",
      "plt.show()"
     ],
     "language": "python",
     "metadata": {},
     "outputs": []
    },
    {
     "cell_type": "code",
     "collapsed": false,
     "input": [
      "#matpltlib functions\n",
      "%matplotlib inline\n",
      "import numpy as np\n",
      "import matplotlib.pyplot as plt\n",
      "y = np.linspace(0, np.pi,100 )\n",
      "b= np.cos(-np.exp(y))\n",
      "plt.plot(y,b)\n",
      "plt.xlabel('x')\n",
      "plt.ylabel('y')\n",
      "#plt.text(0.5, 0.8, 'y= cos(-exp(x))', fonstsize = 16)\n",
      "plt.title('Frequency Modulation')\n",
      "plt.show()"
     ],
     "language": "python",
     "metadata": {},
     "outputs": []
    },
    {
     "cell_type": "code",
     "collapsed": false,
     "input": [
      "Xmin= -5.0; Xmax = 5.0\n",
      "Npoints=500\n",
      "DelX=(Xmax-Xmin)/Npoints\n",
      "x=np.arange(Xmin,Xmax, DelX)\n",
      "y1=-np.sin(x)*np.cos(x**2)\n",
      "y2=np.exp(-x/4.)*np.sin(x)\n",
      "\n",
      "fig = plt.figure()\n",
      "ax= fig.add_subplot(211)  #2 rows, 1 column, first of the two\n",
      "fig.subplots_adjust(top=0.85)\n",
      "plt.title('Two Functions')\n",
      "\n",
      "plt.plot (x,y1,'r.', lw=2)\n",
      "plt.grid(True)          #plt.grid must come after you plt.plot\n",
      "ax.set_ylabel('y1')\n",
      "ax.set_xlabel('x')\n",
      "\n",
      "plt.subplot(212)       #2 rows, 1 column, second of the two (different way to do it but same result)\n",
      "plt.plot (x,y2,'g--', lw=2)\n",
      "plt.xlabel('x')\n",
      "plt.ylabel('y2')\n",
      "\n",
      "plt.show()\n"
     ],
     "language": "python",
     "metadata": {},
     "outputs": []
    },
    {
     "cell_type": "code",
     "collapsed": false,
     "input": [
      "def g(x,y):\n",
      "    return x**2+y**2\n",
      "z=g(2.,3.)\n",
      "print z"
     ],
     "language": "python",
     "metadata": {},
     "outputs": []
    },
    {
     "cell_type": "code",
     "collapsed": false,
     "input": [
      "%matplotlib osx\n",
      "#%matplotlib inline\n",
      "from mpl_toolkits.mplot3d import axes3d\n",
      "import matplotlib.pyplot as plt\n",
      "import numpy as np\n",
      "from matplotlib import cm\n",
      "\n",
      "fig=plt.figure()\n",
      "ax= fig.add_subplot(111, projection='3d')\n",
      "x= y = np.linspace(-5,5,100)\n",
      "xv, yv= np.meshgrid(x, y)\n",
      "z= g(xv,yv)\n",
      "#ax.plot_wireframe(xv, yv, z, rstride=4, cstride=4, linewidth=1)\n",
      "ax.plot_surface(xv,yv, z, rstride = 1, cstride = 1, cmap=cm.coolwarm, linewidth=0)\n",
      "plt.show()"
     ],
     "language": "python",
     "metadata": {},
     "outputs": []
    },
    {
     "cell_type": "markdown",
     "metadata": {},
     "source": [
      "\n",
      "write a function f(x,y,R,a,b)= ax^2 -by^2-R^2, where x and y\n",
      "are regualr variables, and ,a,b, and R are keyword variables \n",
      "with the follow default varicables: a:=1, b=1., and R=10"
     ]
    },
    {
     "cell_type": "code",
     "collapsed": false,
     "input": [
      "%matplotlib inline\n",
      "from mpl_toolkits.mplot3d import axes3d\n",
      "import matplotlib.pyplot as plt\n",
      "import numpy as np\n",
      "from matplotlib import cm\n",
      "\n",
      "def f(x,y,a=1.,b=1., R=10.):\n",
      "    func= a*x**2-b*y**2-R**2\n",
      "    return func\n",
      "\n",
      "fig=plt.figure()\n",
      "ax= fig.add_subplot(111, projection='3d')\n",
      "x= y = np.linspace(-5,5,100)\n",
      "xv, yv= np.meshgrid(x, y)\n",
      "z= f(xv,yv)\n",
      "#ax.plot_wireframe(xv, yv, z, rstride=4, cstride=4, linewidth=1)\n",
      "ax.plot_surface(xv,yv, z, rstride = 1, cstride = 1, cmap=cm.coolwarm, linewidth=0)\n",
      "plt.show()"
     ],
     "language": "python",
     "metadata": {},
     "outputs": []
    },
    {
     "cell_type": "code",
     "collapsed": false,
     "input": [
      "#incomplete; trying to find prime numbers between any range\n",
      "import numpy as np\n",
      "def func(a,b):\n",
      "    odd=[]\n",
      "    guess=[]\n",
      "    prime=np.linspace(a,b,b-(a-1))   #np.arange\n",
      "    for n in prime:\n",
      "        if n % 2 ==1:\n",
      "            odd.append(n)\n",
      "    #print odd\n",
      "    for x in odd:\n",
      "        if x % 3 != 0:\n",
      "            guess.append(x)\n",
      "    print guess\n",
      "    \n",
      "\n",
      "func(1,100)  "
     ],
     "language": "python",
     "metadata": {},
     "outputs": [
      {
       "output_type": "stream",
       "stream": "stdout",
       "text": [
        "[1.0, 5.0, 7.0, 11.0, 13.0, 17.0, 19.0, 23.0, 25.0, 29.0, 31.0, 35.0, 37.0, 41.0, 43.0, 47.0, 49.0, 53.0, 55.0, 59.0, 61.0, 65.0, 67.0, 71.0, 73.0, 77.0, 79.0, 83.0, 85.0, 89.0, 91.0, 95.0, 97.0]\n"
       ]
      }
     ],
     "prompt_number": 27
    },
    {
     "cell_type": "code",
     "collapsed": false,
     "input": [
      "#same as above\n",
      "import numpy as np\n",
      "a=1; b=200\n",
      "x=np.linspace(a,b,b-(a-1))\n",
      "print x % 2\n"
     ],
     "language": "python",
     "metadata": {},
     "outputs": []
    },
    {
     "cell_type": "code",
     "collapsed": false,
     "input": [
      "def temp conversion(x):\n",
      "    Fdegrees (9.0/5)*x + 32.\n",
      "    return Fdegrees"
     ],
     "language": "python",
     "metadata": {},
     "outputs": []
    },
    {
     "cell_type": "code",
     "collapsed": false,
     "input": [
      "x=0\n",
      "print 1/x"
     ],
     "language": "python",
     "metadata": {},
     "outputs": []
    },
    {
     "cell_type": "code",
     "collapsed": false,
     "input": [
      "def inverse(x):\n",
      "    if x == 0:\n",
      "        raise ZeroDivisionError(\"Cannot divide by 0\")\n",
      "        return 1./x\n",
      "y=inverse(0)\n",
      "print y"
     ],
     "language": "python",
     "metadata": {},
     "outputs": []
    },
    {
     "cell_type": "code",
     "collapsed": false,
     "input": [
      "s= 'Hey Yo'\n",
      "print s[0]\n",
      "print len(s)\n",
      "print '\\nCharacters in the string a:'\n",
      "\n",
      "for c in s:\n",
      "    print c\n",
      "    \n"
     ],
     "language": "python",
     "metadata": {},
     "outputs": []
    },
    {
     "cell_type": "code",
     "collapsed": false,
     "input": [
      "a = [3,6,10]\n",
      "sum(a)\n",
      "a.append('Hey Yo')\n",
      "print a\n",
      "a.append([1,2,3])"
     ],
     "language": "python",
     "metadata": {},
     "outputs": []
    },
    {
     "cell_type": "code",
     "collapsed": false,
     "input": [
      "using \"\\\" means we can keep breaking the string without having to use a \" until the end"
     ],
     "language": "python",
     "metadata": {},
     "outputs": []
    },
    {
     "cell_type": "code",
     "collapsed": false,
     "input": [],
     "language": "python",
     "metadata": {},
     "outputs": []
    }
   ],
   "metadata": {}
  }
 ]
}