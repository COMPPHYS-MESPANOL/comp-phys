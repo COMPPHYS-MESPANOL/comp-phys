{
 "metadata": {
  "name": "",
  "signature": "sha256:56cf1b4921c8e4a4485cfa4044462741a0d6fede6249c3616ed2470d8aaad06c"
 },
 "nbformat": 3,
 "nbformat_minor": 0,
 "worksheets": [
  {
   "cells": [
    {
     "cell_type": "code",
     "collapsed": false,
     "input": [
      "import pdb\n",
      "\n",
      "x=2\n",
      "def L(x, n):\n",
      "    approx= 0\n",
      "    for i in range(0, n + 1):\n",
      "            approx += (1./(i+1.))*(x/(1.+x))**(i+1.)\n",
      "            return approx\n",
      "            return approx\n",
      "\n",
      "\n",
      "\n",
      "\n",
      "y = L(x, 1000)\n",
      "print 'Taylor Series Approximation:', y\n",
      "from math import log  #you would guess math module would have log...yes!\n",
      "exact_val = log(1+x)\n",
      "print 'exact_val', exact_val\n",
      "from math import log1p  #more accurate for small x.\n",
      "print 'log1p output', log1p(x)\n",
      "    \n",
      "    \n",
      "    "
     ],
     "language": "python",
     "metadata": {},
     "outputs": [
      {
       "output_type": "stream",
       "stream": "stdout",
       "text": [
        "Taylor Series Approximation: 0.666666666667\n",
        "exact_val 1.09861228867\n",
        "log1p output 1.09861228867\n"
       ]
      }
     ],
     "prompt_number": 18
    },
    {
     "cell_type": "code",
     "collapsed": false,
     "input": [
      "def g(t):\n",
      "    return t**(-6)\n",
      "\n",
      "def diff2(f,x,h=1e-6):\n",
      "    r = (f(x-h) - 2*f(x) + f(x+h))/float(h*h)\n",
      "    return r\n",
      "         \n",
      "for k in range(1,15):\n",
      "    h=10**(-k)\n",
      "    d2g = diff2(g,1,h)\n",
      "    print 'h = {:.0e}: {:.5g}' .format(h, d2g)"
     ],
     "language": "python",
     "metadata": {},
     "outputs": [
      {
       "output_type": "stream",
       "stream": "stdout",
       "text": [
        "h = 1e-01: 44.615\n",
        "h = 1e-02: 42.025\n",
        "h = 1e-03: 42\n",
        "h = 1e-04: 42\n",
        "h = 1e-05: 42\n",
        "h = 1e-06: 42.001\n",
        "h = 1e-07: 41.944\n",
        "h = 1e-08: 47.74\n",
        "h = 1e-09: -666.13\n",
        "h = 1e-10: 0\n",
        "h = 1e-11: 0\n",
        "h = 1e-12: -6.6613e+08\n",
        "h = 1e-13: 6.6613e+10\n",
        "h = 1e-14: 0\n"
       ]
      }
     ],
     "prompt_number": 4
    },
    {
     "cell_type": "code",
     "collapsed": false,
     "input": [
      "import decimal\n",
      "decimal.getcontext().prec = 30\n",
      "D = decimal.Decimal\n",
      "\n",
      "def diff2(f,x,h=1e-9):\n",
      "    x = D(str(x)); h = D(str(h))\n",
      "    r = (f(x-h) - 2*f(x) + f(x+h))/(h*h)\n",
      "    return r\n",
      "\n",
      "def g(t):\n",
      "    return t**(-6)\n",
      "\n",
      "for k in range(1,15):\n",
      "    h=10**(-k)\n",
      "    print 'h = {:.0e}: {:.5g}'.format(h, diff2(g, 1,h))"
     ],
     "language": "python",
     "metadata": {},
     "outputs": [
      {
       "output_type": "stream",
       "stream": "stdout",
       "text": [
        "h = 1e-01: 44.615\n",
        "h = 1e-02: 42.025\n",
        "h = 1e-03: 42.000\n",
        "h = 1e-04: 42.000\n",
        "h = 1e-05: 42.000\n",
        "h = 1e-06: 42.000\n",
        "h = 1e-07: 42.000\n",
        "h = 1e-08: 42.000\n",
        "h = 1e-09: 42.000\n",
        "h = 1e-10: 42.000\n",
        "h = 1e-11: 42.000\n",
        "h = 1e-12: 42.000\n",
        "h = 1e-13: 42.000\n",
        "h = 1e-14: 42.00\n"
       ]
      }
     ],
     "prompt_number": 7
    },
    {
     "cell_type": "code",
     "collapsed": false,
     "input": [
      "g = lambda x: x**2 + 4\n",
      "\n",
      "def f(x):\n",
      "    return x**2 + 4 \n",
      "print g(3)\n",
      "print f(3)"
     ],
     "language": "python",
     "metadata": {},
     "outputs": [
      {
       "output_type": "stream",
       "stream": "stdout",
       "text": [
        "13\n",
        "13\n"
       ]
      }
     ],
     "prompt_number": 8
    },
    {
     "cell_type": "code",
     "collapsed": false,
     "input": [
      "from math import pi, sin\n",
      "x=1.5\n",
      "f= lambda x: sin(x) if 0 <= x <= 2*pi else 0\n",
      "print type(f)\n",
      "print f(x)"
     ],
     "language": "python",
     "metadata": {},
     "outputs": [
      {
       "output_type": "stream",
       "stream": "stdout",
       "text": [
        "<type 'function'>\n",
        "0.997494986604\n"
       ]
      }
     ],
     "prompt_number": 11
    },
    {
     "cell_type": "code",
     "collapsed": false,
     "input": [
      "if __name__ == \"__main__\":\n",
      "    import doctest\n",
      "    doctest.testmod()\n",
      "    \n",
      "    x=1000\n",
      "    y=L(x)\n",
      "    print \"series approximation\", y\n",
      "    \n",
      "    "
     ],
     "language": "python",
     "metadata": {},
     "outputs": [
      {
       "ename": "TypeError",
       "evalue": "L() takes exactly 2 arguments (1 given)",
       "output_type": "pyerr",
       "traceback": [
        "\u001b[0;31m---------------------------------------------------------------------------\u001b[0m\n\u001b[0;31mTypeError\u001b[0m                                 Traceback (most recent call last)",
        "\u001b[0;32m<ipython-input-20-64f04e7695c1>\u001b[0m in \u001b[0;36m<module>\u001b[0;34m()\u001b[0m\n\u001b[1;32m      4\u001b[0m \u001b[0;34m\u001b[0m\u001b[0m\n\u001b[1;32m      5\u001b[0m     \u001b[0mx\u001b[0m\u001b[0;34m=\u001b[0m\u001b[0;36m1000\u001b[0m\u001b[0;34m\u001b[0m\u001b[0m\n\u001b[0;32m----> 6\u001b[0;31m     \u001b[0my\u001b[0m\u001b[0;34m=\u001b[0m\u001b[0mL\u001b[0m\u001b[0;34m(\u001b[0m\u001b[0mx\u001b[0m\u001b[0;34m)\u001b[0m\u001b[0;34m\u001b[0m\u001b[0m\n\u001b[0m\u001b[1;32m      7\u001b[0m     \u001b[0;32mprint\u001b[0m \u001b[0;34m\"series approximation\"\u001b[0m\u001b[0;34m,\u001b[0m \u001b[0my\u001b[0m\u001b[0;34m\u001b[0m\u001b[0m\n\u001b[1;32m      8\u001b[0m \u001b[0;34m\u001b[0m\u001b[0m\n",
        "\u001b[0;31mTypeError\u001b[0m: L() takes exactly 2 arguments (1 given)"
       ]
      }
     ],
     "prompt_number": 20
    },
    {
     "cell_type": "code",
     "collapsed": false,
     "input": [],
     "language": "python",
     "metadata": {},
     "outputs": []
    }
   ],
   "metadata": {}
  }
 ]
}